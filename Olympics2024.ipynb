{
 "cells": [
  {
   "cell_type": "code",
   "execution_count": 1,
   "id": "cc37e6ec",
   "metadata": {},
   "outputs": [
    {
     "name": "stderr",
     "output_type": "stream",
     "text": [
      "C:\\Users\\Hp\\anaconda3\\Lib\\site-packages\\pandas\\core\\arrays\\masked.py:60: UserWarning: Pandas requires version '1.3.6' or newer of 'bottleneck' (version '1.3.5' currently installed).\n",
      "  from pandas.core import (\n"
     ]
    }
   ],
   "source": [
    "import pandas as pd\n",
    "import numpy as np"
   ]
  },
  {
   "cell_type": "code",
   "execution_count": 2,
   "id": "a01dfdea",
   "metadata": {},
   "outputs": [],
   "source": [
    "athletes=pd.read_csv(\"athletes.csv\")"
   ]
  },
  {
   "cell_type": "code",
   "execution_count": 276,
   "id": "c046287a",
   "metadata": {},
   "outputs": [
    {
     "data": {
      "text/plain": [
       "(11113, 36)"
      ]
     },
     "execution_count": 276,
     "metadata": {},
     "output_type": "execute_result"
    }
   ],
   "source": [
    "athletes.shape"
   ]
  },
  {
   "cell_type": "code",
   "execution_count": 277,
   "id": "a22cfdf9",
   "metadata": {},
   "outputs": [
    {
     "data": {
      "text/html": [
       "<div>\n",
       "<style scoped>\n",
       "    .dataframe tbody tr th:only-of-type {\n",
       "        vertical-align: middle;\n",
       "    }\n",
       "\n",
       "    .dataframe tbody tr th {\n",
       "        vertical-align: top;\n",
       "    }\n",
       "\n",
       "    .dataframe thead th {\n",
       "        text-align: right;\n",
       "    }\n",
       "</style>\n",
       "<table border=\"1\" class=\"dataframe\">\n",
       "  <thead>\n",
       "    <tr style=\"text-align: right;\">\n",
       "      <th></th>\n",
       "      <th>code</th>\n",
       "      <th>current</th>\n",
       "      <th>name</th>\n",
       "      <th>name_short</th>\n",
       "      <th>name_tv</th>\n",
       "      <th>gender</th>\n",
       "      <th>function</th>\n",
       "      <th>country_code</th>\n",
       "      <th>country</th>\n",
       "      <th>country_long</th>\n",
       "      <th>...</th>\n",
       "      <th>family</th>\n",
       "      <th>lang</th>\n",
       "      <th>coach</th>\n",
       "      <th>reason</th>\n",
       "      <th>hero</th>\n",
       "      <th>influence</th>\n",
       "      <th>philosophy</th>\n",
       "      <th>sporting_relatives</th>\n",
       "      <th>ritual</th>\n",
       "      <th>other_sports</th>\n",
       "    </tr>\n",
       "  </thead>\n",
       "  <tbody>\n",
       "    <tr>\n",
       "      <th>4175</th>\n",
       "      <td>1902490</td>\n",
       "      <td>True</td>\n",
       "      <td>BISCH Gwendal</td>\n",
       "      <td>BISCH G</td>\n",
       "      <td>Gwendal BISCH</td>\n",
       "      <td>Male</td>\n",
       "      <td>Athlete</td>\n",
       "      <td>FRA</td>\n",
       "      <td>France</td>\n",
       "      <td>France</td>\n",
       "      <td>...</td>\n",
       "      <td>NaN</td>\n",
       "      <td>French</td>\n",
       "      <td>National: Clemence Monnery (FRA)</td>\n",
       "      <td>He was drawn to the spectacular nature of the ...</td>\n",
       "      <td>NaN</td>\n",
       "      <td>NaN</td>\n",
       "      <td>NaN</td>\n",
       "      <td>NaN</td>\n",
       "      <td>NaN</td>\n",
       "      <td>NaN</td>\n",
       "    </tr>\n",
       "    <tr>\n",
       "      <th>7332</th>\n",
       "      <td>1940004</td>\n",
       "      <td>True</td>\n",
       "      <td>CLAREBURT Lewis</td>\n",
       "      <td>CLAREBURT L</td>\n",
       "      <td>Lewis CLAREBURT</td>\n",
       "      <td>Male</td>\n",
       "      <td>Athlete</td>\n",
       "      <td>NZL</td>\n",
       "      <td>New Zealand</td>\n",
       "      <td>New Zealand</td>\n",
       "      <td>...</td>\n",
       "      <td>Father, David. Mother, Robyn. Older sisters Al...</td>\n",
       "      <td>English</td>\n",
       "      <td>NaN</td>\n",
       "      <td>\"My older sisters were both swimmers so I was ...</td>\n",
       "      <td>NaN</td>\n",
       "      <td>Family. \"Both my sisters were and still are su...</td>\n",
       "      <td>NaN</td>\n",
       "      <td>NaN</td>\n",
       "      <td>Listens to music before a race. \"I normally bl...</td>\n",
       "      <td>Has been involved in the Surf Life Saving New ...</td>\n",
       "    </tr>\n",
       "    <tr>\n",
       "      <th>9899</th>\n",
       "      <td>1967347</td>\n",
       "      <td>True</td>\n",
       "      <td>BANSLEY Heather</td>\n",
       "      <td>BANSLEY H</td>\n",
       "      <td>Heather BANSLEY</td>\n",
       "      <td>Female</td>\n",
       "      <td>Athlete</td>\n",
       "      <td>CAN</td>\n",
       "      <td>Canada</td>\n",
       "      <td>Canada</td>\n",
       "      <td>...</td>\n",
       "      <td>Father, Doug. Mother, Ann. Brothers, Dave, Mar...</td>\n",
       "      <td>English</td>\n",
       "      <td>National: Srdjan Veckov (SRB)</td>\n",
       "      <td>Her university coach recommended beach volleyb...</td>\n",
       "      <td>NaN</td>\n",
       "      <td>University coach Kristine Drakic (CAN)</td>\n",
       "      <td>\"Trust the value of joyful laughter on your jo...</td>\n",
       "      <td>NaN</td>\n",
       "      <td>NaN</td>\n",
       "      <td>NaN</td>\n",
       "    </tr>\n",
       "    <tr>\n",
       "      <th>4294</th>\n",
       "      <td>1903223</td>\n",
       "      <td>True</td>\n",
       "      <td>HILLEWAERT Lien</td>\n",
       "      <td>HILLEWAERT L</td>\n",
       "      <td>Lien HILLEWAERT</td>\n",
       "      <td>Female</td>\n",
       "      <td>Athlete</td>\n",
       "      <td>BEL</td>\n",
       "      <td>Belgium</td>\n",
       "      <td>Belgium</td>\n",
       "      <td>...</td>\n",
       "      <td>Sister, Lore</td>\n",
       "      <td>English</td>\n",
       "      <td>Club: Rolo Perez (ARG)&lt;br&gt;National: Raoul Ehre...</td>\n",
       "      <td>NaN</td>\n",
       "      <td>NaN</td>\n",
       "      <td>NaN</td>\n",
       "      <td>NaN</td>\n",
       "      <td>NaN</td>\n",
       "      <td>NaN</td>\n",
       "      <td>NaN</td>\n",
       "    </tr>\n",
       "    <tr>\n",
       "      <th>4551</th>\n",
       "      <td>1906059</td>\n",
       "      <td>True</td>\n",
       "      <td>JUERISSON Peeter</td>\n",
       "      <td>JUERISSON P</td>\n",
       "      <td>Peeter JUERISSON</td>\n",
       "      <td>Male</td>\n",
       "      <td>Athlete</td>\n",
       "      <td>EST</td>\n",
       "      <td>Estonia</td>\n",
       "      <td>Estonia</td>\n",
       "      <td>...</td>\n",
       "      <td>Partner, Brigita. Father, Alvar. Mother, Katri...</td>\n",
       "      <td>English, Estonian</td>\n",
       "      <td>National: Peeter Pakk (EST)</td>\n",
       "      <td>NaN</td>\n",
       "      <td>NaN</td>\n",
       "      <td>NaN</td>\n",
       "      <td>NaN</td>\n",
       "      <td>NaN</td>\n",
       "      <td>NaN</td>\n",
       "      <td>NaN</td>\n",
       "    </tr>\n",
       "  </tbody>\n",
       "</table>\n",
       "<p>5 rows × 36 columns</p>\n",
       "</div>"
      ],
      "text/plain": [
       "         code  current              name    name_short           name_tv  \\\n",
       "4175  1902490     True     BISCH Gwendal       BISCH G     Gwendal BISCH   \n",
       "7332  1940004     True   CLAREBURT Lewis   CLAREBURT L   Lewis CLAREBURT   \n",
       "9899  1967347     True   BANSLEY Heather     BANSLEY H   Heather BANSLEY   \n",
       "4294  1903223     True   HILLEWAERT Lien  HILLEWAERT L   Lien HILLEWAERT   \n",
       "4551  1906059     True  JUERISSON Peeter   JUERISSON P  Peeter JUERISSON   \n",
       "\n",
       "      gender function country_code      country country_long  ...  \\\n",
       "4175    Male  Athlete          FRA       France       France  ...   \n",
       "7332    Male  Athlete          NZL  New Zealand  New Zealand  ...   \n",
       "9899  Female  Athlete          CAN       Canada       Canada  ...   \n",
       "4294  Female  Athlete          BEL      Belgium      Belgium  ...   \n",
       "4551    Male  Athlete          EST      Estonia      Estonia  ...   \n",
       "\n",
       "                                                 family               lang  \\\n",
       "4175                                                NaN             French   \n",
       "7332  Father, David. Mother, Robyn. Older sisters Al...            English   \n",
       "9899  Father, Doug. Mother, Ann. Brothers, Dave, Mar...            English   \n",
       "4294                                       Sister, Lore            English   \n",
       "4551  Partner, Brigita. Father, Alvar. Mother, Katri...  English, Estonian   \n",
       "\n",
       "                                                  coach  \\\n",
       "4175                   National: Clemence Monnery (FRA)   \n",
       "7332                                                NaN   \n",
       "9899                      National: Srdjan Veckov (SRB)   \n",
       "4294  Club: Rolo Perez (ARG)<br>National: Raoul Ehre...   \n",
       "4551                        National: Peeter Pakk (EST)   \n",
       "\n",
       "                                                 reason  hero  \\\n",
       "4175  He was drawn to the spectacular nature of the ...   NaN   \n",
       "7332  \"My older sisters were both swimmers so I was ...   NaN   \n",
       "9899  Her university coach recommended beach volleyb...   NaN   \n",
       "4294                                                NaN   NaN   \n",
       "4551                                                NaN   NaN   \n",
       "\n",
       "                                              influence  \\\n",
       "4175                                                NaN   \n",
       "7332  Family. \"Both my sisters were and still are su...   \n",
       "9899             University coach Kristine Drakic (CAN)   \n",
       "4294                                                NaN   \n",
       "4551                                                NaN   \n",
       "\n",
       "                                             philosophy sporting_relatives  \\\n",
       "4175                                                NaN                NaN   \n",
       "7332                                                NaN                NaN   \n",
       "9899  \"Trust the value of joyful laughter on your jo...                NaN   \n",
       "4294                                                NaN                NaN   \n",
       "4551                                                NaN                NaN   \n",
       "\n",
       "                                                 ritual  \\\n",
       "4175                                                NaN   \n",
       "7332  Listens to music before a race. \"I normally bl...   \n",
       "9899                                                NaN   \n",
       "4294                                                NaN   \n",
       "4551                                                NaN   \n",
       "\n",
       "                                           other_sports  \n",
       "4175                                                NaN  \n",
       "7332  Has been involved in the Surf Life Saving New ...  \n",
       "9899                                                NaN  \n",
       "4294                                                NaN  \n",
       "4551                                                NaN  \n",
       "\n",
       "[5 rows x 36 columns]"
      ]
     },
     "execution_count": 277,
     "metadata": {},
     "output_type": "execute_result"
    }
   ],
   "source": [
    "athletes.sample(5)"
   ]
  },
  {
   "cell_type": "code",
   "execution_count": 278,
   "id": "140adbc8",
   "metadata": {},
   "outputs": [],
   "source": [
    "athletes.drop(columns=['current','name_short', 'name_tv',\n",
    "       'function', 'country_code', 'country_long', 'nationality',\n",
    "       'nationality_long', 'nationality_code', 'birth_place', 'birth_country',\n",
    "       'residence_place', 'residence_country', 'nickname', 'hobbies',\n",
    "       'occupation', 'family', 'coach', 'reason', 'hero',\n",
    "       'influence', 'philosophy', 'sporting_relatives', 'ritual',\n",
    "       'other_sports','education'],inplace=True)"
   ]
  },
  {
   "cell_type": "code",
   "execution_count": 279,
   "id": "3d56fba6",
   "metadata": {},
   "outputs": [
    {
     "data": {
      "text/html": [
       "<div>\n",
       "<style scoped>\n",
       "    .dataframe tbody tr th:only-of-type {\n",
       "        vertical-align: middle;\n",
       "    }\n",
       "\n",
       "    .dataframe tbody tr th {\n",
       "        vertical-align: top;\n",
       "    }\n",
       "\n",
       "    .dataframe thead th {\n",
       "        text-align: right;\n",
       "    }\n",
       "</style>\n",
       "<table border=\"1\" class=\"dataframe\">\n",
       "  <thead>\n",
       "    <tr style=\"text-align: right;\">\n",
       "      <th></th>\n",
       "      <th>code</th>\n",
       "      <th>name</th>\n",
       "      <th>gender</th>\n",
       "      <th>country</th>\n",
       "      <th>height</th>\n",
       "      <th>weight</th>\n",
       "      <th>disciplines</th>\n",
       "      <th>events</th>\n",
       "      <th>birth_date</th>\n",
       "      <th>lang</th>\n",
       "    </tr>\n",
       "  </thead>\n",
       "  <tbody>\n",
       "    <tr>\n",
       "      <th>5139</th>\n",
       "      <td>1913105</td>\n",
       "      <td>McLEOD Carey</td>\n",
       "      <td>Male</td>\n",
       "      <td>Jamaica</td>\n",
       "      <td>180.0</td>\n",
       "      <td>0.0</td>\n",
       "      <td>['Athletics']</td>\n",
       "      <td>[\"Men's Long Jump\"]</td>\n",
       "      <td>1998-04-14</td>\n",
       "      <td>English</td>\n",
       "    </tr>\n",
       "    <tr>\n",
       "      <th>2238</th>\n",
       "      <td>1572558</td>\n",
       "      <td>AASTEDT Sofia</td>\n",
       "      <td>Female</td>\n",
       "      <td>Sweden</td>\n",
       "      <td>0.0</td>\n",
       "      <td>0.0</td>\n",
       "      <td>['Swimming']</td>\n",
       "      <td>[\"Women's 4 x 100m Freestyle Relay\", 'Relay On...</td>\n",
       "      <td>2003-11-13</td>\n",
       "      <td>NaN</td>\n",
       "    </tr>\n",
       "  </tbody>\n",
       "</table>\n",
       "</div>"
      ],
      "text/plain": [
       "         code           name  gender  country  height  weight    disciplines  \\\n",
       "5139  1913105   McLEOD Carey    Male  Jamaica   180.0     0.0  ['Athletics']   \n",
       "2238  1572558  AASTEDT Sofia  Female   Sweden     0.0     0.0   ['Swimming']   \n",
       "\n",
       "                                                 events  birth_date     lang  \n",
       "5139                                [\"Men's Long Jump\"]  1998-04-14  English  \n",
       "2238  [\"Women's 4 x 100m Freestyle Relay\", 'Relay On...  2003-11-13      NaN  "
      ]
     },
     "execution_count": 279,
     "metadata": {},
     "output_type": "execute_result"
    }
   ],
   "source": [
    "athletes.sample(2)"
   ]
  },
  {
   "cell_type": "code",
   "execution_count": 280,
   "id": "46a3dee1",
   "metadata": {
    "scrolled": true
   },
   "outputs": [
    {
     "data": {
      "text/plain": [
       "array(['Armenia', 'Colombia', 'Jamaica', 'Gambia', 'Mexico', 'Comoros',\n",
       "       'Iraq', 'Djibouti', 'UA Emirates', 'IR Iran', 'Malawi',\n",
       "       'Argentina', 'Singapore', 'Malaysia', 'Mauritania', 'Gabon',\n",
       "       'India', 'Ethiopia', 'St Kitts and Nevis', 'Congo', 'Puerto Rico',\n",
       "       'Virgin Islands, US', 'Saint Lucia', 'Marshall Islands', 'Jordan',\n",
       "       'Oman', 'Ghana', 'Libya', 'Algeria', 'Cayman Islands', 'Guyana',\n",
       "       'AIN', 'StVincent&Grenadines', 'Romania', 'Bahrain',\n",
       "       \"Côte d'Ivoire\", 'Uzbekistan', 'Bermuda', 'Luxembourg', 'Morocco',\n",
       "       'Ireland', 'Kiribati', 'Suriname', 'Aruba', 'Tajikistan',\n",
       "       'Sao Tome & Principe', 'Croatia', 'Paraguay', 'France', 'Cuba',\n",
       "       'Kuwait', 'Timor-Leste', 'Japan', 'Yemen', 'Germany', 'Vanuatu',\n",
       "       'Bhutan', 'Bangladesh', 'Cambodia', 'Afghanistan', 'Lesotho',\n",
       "       'Israel', 'Eswatini', 'Great Britain', 'Turkmenistan', 'Sweden',\n",
       "       'Ukraine', 'Vietnam', 'Mozambique', 'Chinese Taipei', 'Italy',\n",
       "       'Mali', 'Georgia', 'Spain', 'Kosovo', 'Fiji', 'Namibia',\n",
       "       'Costa Rica', 'Uganda', 'Eritrea', 'Albania', 'Bulgaria',\n",
       "       'Mauritius', 'Burkina Faso', 'Micronesia', 'Republic of Moldova',\n",
       "       'Grenada', 'Barbados', 'Seychelles', 'Monaco', 'Cyprus',\n",
       "       'Kazakhstan', 'Antigua and Barbuda', 'Chile', 'Niger', 'Maldives',\n",
       "       'Liechtenstein', 'Chad', 'Austria', 'Peru', 'Senegal', 'Qatar',\n",
       "       'Brazil', 'Nigeria', 'Bolivia', 'Belize', 'Egypt', 'Pakistan',\n",
       "       'Türkiye', 'Poland', 'Czechia', 'Cabo Verde', 'Guinea-Bissau',\n",
       "       'Mongolia', 'Benin', 'Guam', 'Palau', 'Kyrgyzstan', 'Zimbabwe',\n",
       "       'Virgin Islands, B', 'Korea', 'Hungary', 'Montenegro', 'Andorra',\n",
       "       'Slovakia', 'Guinea', 'El Salvador', 'Solomon Islands', 'Thailand',\n",
       "       'Sudan', 'South Africa', 'Cook Islands', 'Norway', 'Indonesia',\n",
       "       'Kenya', 'Denmark', 'Rwanda', 'Angola', 'Tanzania', 'Estonia',\n",
       "       'Lithuania', 'New Zealand', 'China', 'San Marino', 'Burundi',\n",
       "       'Venezuela', 'Malta', 'EOR', 'Belgium', 'Tuvalu', 'Somalia',\n",
       "       'Liberia', 'Zambia', 'Australia', 'Saudi Arabia', 'Togo',\n",
       "       'Dominican Republic', 'Sierra Leone', 'Haiti', 'Finland',\n",
       "       'Bahamas', 'Trinidad and Tobago', 'Dominica', 'United States',\n",
       "       'Brunei Darussalam', 'Tunisia', 'Uruguay', 'Madagascar',\n",
       "       'Centr Afric Re', 'Portugal', 'Nepal', 'Hong Kong, China',\n",
       "       'Honduras', 'Papua New Guinea', 'Iceland', 'Azerbaijan', 'Ecuador',\n",
       "       'Palestine', 'Sri Lanka', 'Netherlands', 'Bosnia & Herzegovina',\n",
       "       'Canada', 'Myanmar', 'Botswana', 'Latvia', 'Tonga', 'Lebanon',\n",
       "       'Serbia', 'Nicaragua', 'Cameroon', 'Equatorial Guinea', 'Lao PDR',\n",
       "       'Guatemala', 'Greece', 'American Samoa', 'North Macedonia',\n",
       "       'Samoa', 'DR Congo', 'Syria', 'Panama', 'South Sudan', 'Nauru',\n",
       "       'Philippines', 'Switzerland', 'DPR Korea', 'Slovenia'],\n",
       "      dtype=object)"
      ]
     },
     "execution_count": 280,
     "metadata": {},
     "output_type": "execute_result"
    }
   ],
   "source": [
    "athletes['country'].unique()   #'Armenia', 'Colombia', 'Jamaica', 'Gambia', 'Mexico', 'Comoros','Iraq', 'Djibouti'"
   ]
  },
  {
   "cell_type": "code",
   "execution_count": 281,
   "id": "19499da8",
   "metadata": {},
   "outputs": [],
   "source": [
    "athletes_list=athletes['lang'].dropna().astype(str).values.tolist()"
   ]
  },
  {
   "cell_type": "code",
   "execution_count": 282,
   "id": "c4190f08",
   "metadata": {},
   "outputs": [],
   "source": [
    "lang_string=\" \".join(athletes_list)"
   ]
  },
  {
   "cell_type": "code",
   "execution_count": 283,
   "id": "28ffb6e9",
   "metadata": {},
   "outputs": [],
   "source": [
    "lang_string=lang_string.replace(\",\",\"\")"
   ]
  },
  {
   "cell_type": "code",
   "execution_count": 284,
   "id": "3dcbb4a9",
   "metadata": {},
   "outputs": [],
   "source": [
    "lang_string=lang_string.replace(\"/\",\"\")"
   ]
  },
  {
   "cell_type": "code",
   "execution_count": 285,
   "id": "ab5a3185",
   "metadata": {},
   "outputs": [],
   "source": [
    "lang_string=lang_string.replace(\".\",\"\")"
   ]
  },
  {
   "cell_type": "code",
   "execution_count": 286,
   "id": "867986a2",
   "metadata": {},
   "outputs": [],
   "source": [
    "lang_string=lang_string.replace(\"(studying)\",\"\")"
   ]
  },
  {
   "cell_type": "code",
   "execution_count": 287,
   "id": "2ee447f8",
   "metadata": {},
   "outputs": [],
   "source": [
    "lang_list=lang_string.split(\" \")"
   ]
  },
  {
   "cell_type": "code",
   "execution_count": 288,
   "id": "613d2db4",
   "metadata": {},
   "outputs": [],
   "source": [
    "\n",
    "from collections import Counter"
   ]
  },
  {
   "cell_type": "code",
   "execution_count": 289,
   "id": "83c8e520",
   "metadata": {},
   "outputs": [],
   "source": [
    "lang_freq=pd.DataFrame(Counter(lang_list).items())"
   ]
  },
  {
   "cell_type": "code",
   "execution_count": 290,
   "id": "56edb565",
   "metadata": {},
   "outputs": [],
   "source": [
    "lang_freq[0]=lang_freq.apply(lambda x: 'Other' if x[1] < 150 else x[0],axis=1)"
   ]
  },
  {
   "cell_type": "code",
   "execution_count": 291,
   "id": "71c1e6cb",
   "metadata": {},
   "outputs": [],
   "source": [
    "lang_freq=lang_freq.groupby(0, as_index=False)[1].sum()"
   ]
  },
  {
   "cell_type": "code",
   "execution_count": 306,
   "id": "f77077e0",
   "metadata": {},
   "outputs": [
    {
     "data": {
      "text/html": [
       "<div>\n",
       "<style scoped>\n",
       "    .dataframe tbody tr th:only-of-type {\n",
       "        vertical-align: middle;\n",
       "    }\n",
       "\n",
       "    .dataframe tbody tr th {\n",
       "        vertical-align: top;\n",
       "    }\n",
       "\n",
       "    .dataframe thead th {\n",
       "        text-align: right;\n",
       "    }\n",
       "</style>\n",
       "<table border=\"1\" class=\"dataframe\">\n",
       "  <thead>\n",
       "    <tr style=\"text-align: right;\">\n",
       "      <th></th>\n",
       "      <th>0</th>\n",
       "      <th>1</th>\n",
       "    </tr>\n",
       "  </thead>\n",
       "  <tbody>\n",
       "    <tr>\n",
       "      <th>1</th>\n",
       "      <td>English</td>\n",
       "      <td>6174</td>\n",
       "    </tr>\n",
       "    <tr>\n",
       "      <th>2</th>\n",
       "      <td>Spanish</td>\n",
       "      <td>1370</td>\n",
       "    </tr>\n",
       "    <tr>\n",
       "      <th>3</th>\n",
       "      <td>French</td>\n",
       "      <td>1243</td>\n",
       "    </tr>\n",
       "    <tr>\n",
       "      <th>4</th>\n",
       "      <td>German</td>\n",
       "      <td>818</td>\n",
       "    </tr>\n",
       "    <tr>\n",
       "      <th>5</th>\n",
       "      <td>Italian</td>\n",
       "      <td>519</td>\n",
       "    </tr>\n",
       "    <tr>\n",
       "      <th>6</th>\n",
       "      <td>Mandarin</td>\n",
       "      <td>494</td>\n",
       "    </tr>\n",
       "    <tr>\n",
       "      <th>7</th>\n",
       "      <td>Japanese</td>\n",
       "      <td>440</td>\n",
       "    </tr>\n",
       "    <tr>\n",
       "      <th>8</th>\n",
       "      <td>Portuguese</td>\n",
       "      <td>416</td>\n",
       "    </tr>\n",
       "    <tr>\n",
       "      <th>9</th>\n",
       "      <td>Russian</td>\n",
       "      <td>408</td>\n",
       "    </tr>\n",
       "    <tr>\n",
       "      <th>10</th>\n",
       "      <td>Dutch</td>\n",
       "      <td>401</td>\n",
       "    </tr>\n",
       "  </tbody>\n",
       "</table>\n",
       "</div>"
      ],
      "text/plain": [
       "             0     1\n",
       "1      English  6174\n",
       "2      Spanish  1370\n",
       "3       French  1243\n",
       "4       German   818\n",
       "5      Italian   519\n",
       "6     Mandarin   494\n",
       "7     Japanese   440\n",
       "8   Portuguese   416\n",
       "9      Russian   408\n",
       "10       Dutch   401"
      ]
     },
     "execution_count": 306,
     "metadata": {},
     "output_type": "execute_result"
    }
   ],
   "source": [
    "# lang_freq=lang_freq.sort_values(by=1,ascending=False).reset_index(drop=True)\n",
    "a=pd.DataFrame(Counter(lang_list).most_common(10))\n",
    "a.index+=1\n",
    "a"
   ]
  },
  {
   "cell_type": "code",
   "execution_count": 293,
   "id": "356f6347",
   "metadata": {},
   "outputs": [
    {
     "data": {
      "image/png": "[encoded data removed]",
      "text/plain": [
       "<Figure size 640x480 with 1 Axes>"
      ]
     },
     "metadata": {},
     "output_type": "display_data"
    }
   ],
   "source": [
    "import matplotlib.pyplot as plt\n",
    "plt.pie(lang_freq[1],labels=lang_freq[0],explode=[0.02 for i in range(lang_freq.shape[0]) ])\n",
    "plt.show()"
   ]
  },
  {
   "cell_type": "code",
   "execution_count": 294,
   "id": "a924c171",
   "metadata": {},
   "outputs": [
    {
     "data": {
      "text/html": [
       "<div>\n",
       "<style scoped>\n",
       "    .dataframe tbody tr th:only-of-type {\n",
       "        vertical-align: middle;\n",
       "    }\n",
       "\n",
       "    .dataframe tbody tr th {\n",
       "        vertical-align: top;\n",
       "    }\n",
       "\n",
       "    .dataframe thead th {\n",
       "        text-align: right;\n",
       "    }\n",
       "</style>\n",
       "<table border=\"1\" class=\"dataframe\">\n",
       "  <thead>\n",
       "    <tr style=\"text-align: right;\">\n",
       "      <th></th>\n",
       "      <th>code</th>\n",
       "      <th>name</th>\n",
       "      <th>gender</th>\n",
       "      <th>country</th>\n",
       "      <th>height</th>\n",
       "      <th>weight</th>\n",
       "      <th>disciplines</th>\n",
       "      <th>events</th>\n",
       "      <th>birth_date</th>\n",
       "      <th>lang</th>\n",
       "    </tr>\n",
       "  </thead>\n",
       "  <tbody>\n",
       "    <tr>\n",
       "      <th>3635</th>\n",
       "      <td>1897155</td>\n",
       "      <td>RYBACHOK Anastasiia</td>\n",
       "      <td>Female</td>\n",
       "      <td>Ukraine</td>\n",
       "      <td>0.0</td>\n",
       "      <td>0.0</td>\n",
       "      <td>['Canoe Sprint']</td>\n",
       "      <td>[\"Women's Canoe Single 200m\", \"Women's Canoe D...</td>\n",
       "      <td>1998-04-13</td>\n",
       "      <td>English, Russian, Ukrainian</td>\n",
       "    </tr>\n",
       "  </tbody>\n",
       "</table>\n",
       "</div>"
      ],
      "text/plain": [
       "         code                 name  gender  country  height  weight  \\\n",
       "3635  1897155  RYBACHOK Anastasiia  Female  Ukraine     0.0     0.0   \n",
       "\n",
       "           disciplines                                             events  \\\n",
       "3635  ['Canoe Sprint']  [\"Women's Canoe Single 200m\", \"Women's Canoe D...   \n",
       "\n",
       "      birth_date                         lang  \n",
       "3635  1998-04-13  English, Russian, Ukrainian  "
      ]
     },
     "execution_count": 294,
     "metadata": {},
     "output_type": "execute_result"
    }
   ],
   "source": [
    "athletes[athletes['code']==1897155]"
   ]
  },
  {
   "cell_type": "markdown",
   "id": "764331d8",
   "metadata": {},
   "source": [
    "## creating a new column name \"age\""
   ]
  },
  {
   "cell_type": "code",
   "execution_count": 295,
   "id": "4361b324",
   "metadata": {},
   "outputs": [],
   "source": [
    "from datetime import datetime"
   ]
  },
  {
   "cell_type": "code",
   "execution_count": 296,
   "id": "69222ebe",
   "metadata": {},
   "outputs": [
    {
     "name": "stdout",
     "output_type": "stream",
     "text": [
      "<class 'pandas.core.frame.DataFrame'>\n",
      "RangeIndex: 11113 entries, 0 to 11112\n",
      "Data columns (total 10 columns):\n",
      " #   Column       Non-Null Count  Dtype         \n",
      "---  ------       --------------  -----         \n",
      " 0   code         11113 non-null  int64         \n",
      " 1   name         11113 non-null  object        \n",
      " 2   gender       11113 non-null  object        \n",
      " 3   country      11113 non-null  object        \n",
      " 4   height       11110 non-null  float64       \n",
      " 5   weight       11108 non-null  float64       \n",
      " 6   disciplines  11113 non-null  object        \n",
      " 7   events       11113 non-null  object        \n",
      " 8   birth_date   11113 non-null  datetime64[ns]\n",
      " 9   lang         10605 non-null  object        \n",
      "dtypes: datetime64[ns](1), float64(2), int64(1), object(6)\n",
      "memory usage: 868.3+ KB\n"
     ]
    }
   ],
   "source": [
    "athletes['birth_date']=athletes['birth_date'].astype('datetime64[ns]')\n",
    "athletes.info()"
   ]
  },
  {
   "cell_type": "code",
   "execution_count": 297,
   "id": "5a9de6b1",
   "metadata": {},
   "outputs": [
    {
     "name": "stdout",
     "output_type": "stream",
     "text": [
      "1991-10-21\n"
     ]
    }
   ],
   "source": [
    "print(athletes[\"birth_date\"][0].date())"
   ]
  },
  {
   "cell_type": "code",
   "execution_count": 298,
   "id": "51003285",
   "metadata": {},
   "outputs": [],
   "source": [
    "athletes['age']=athletes.apply(lambda x: datetime.now().year-x[\"birth_date\"].year,axis = 1)"
   ]
  },
  {
   "cell_type": "code",
   "execution_count": 300,
   "id": "ebe29f17",
   "metadata": {},
   "outputs": [
    {
     "data": {
      "text/plain": [
       "26.9678754611716"
      ]
     },
     "execution_count": 300,
     "metadata": {},
     "output_type": "execute_result"
    }
   ],
   "source": [
    "athletes['age'].mean()"
   ]
  },
  {
   "cell_type": "markdown",
   "id": "9ea13a7c",
   "metadata": {},
   "source": [
    "## Merging with medals"
   ]
  },
  {
   "cell_type": "code",
   "execution_count": 3,
   "id": "0a0c9ce0",
   "metadata": {},
   "outputs": [],
   "source": [
    "import ast"
   ]
  },
  {
   "cell_type": "code",
   "execution_count": 4,
   "id": "c28006f0",
   "metadata": {},
   "outputs": [],
   "source": [
    "athletes.dropna(subset=['events'],inplace=True)"
   ]
  },
  {
   "cell_type": "code",
   "execution_count": 5,
   "id": "3b038828",
   "metadata": {},
   "outputs": [],
   "source": [
    "def clean_and_convert(value):\n",
    "    try:\n",
    "        value = value.replace(\"'\", \"\") \n",
    "        value = value.replace('\"', '') \n",
    "        value = value.replace('[', '[\"')  \n",
    "        value = value.replace(']', '\"]')  \n",
    "        value = value.replace(',', '\",\"')  \n",
    "        return ast.literal_eval(value)\n",
    "    except (ValueError, SyntaxError, TypeError):\n",
    "        return value "
   ]
  },
  {
   "cell_type": "code",
   "execution_count": 6,
   "id": "8c38e55b",
   "metadata": {},
   "outputs": [],
   "source": [
    "athletes['disciplines'] = athletes['disciplines'].apply(clean_and_convert)\n",
    "athletes['events']=athletes['events'].apply(clean_and_convert)"
   ]
  },
  {
   "cell_type": "code",
   "execution_count": 7,
   "id": "344e5837",
   "metadata": {},
   "outputs": [],
   "source": [
    "athletes=athletes.explode(column=['events']).reset_index(drop=True)"
   ]
  },
  {
   "cell_type": "code",
   "execution_count": 8,
   "id": "fcff1d80",
   "metadata": {},
   "outputs": [],
   "source": [
    "athletes=athletes.explode(column=['disciplines']).reset_index(drop=True)"
   ]
  },
  {
   "cell_type": "code",
   "execution_count": 9,
   "id": "7db11a41",
   "metadata": {},
   "outputs": [],
   "source": [
    "athletes['disciplines']=athletes['disciplines'].apply(lambda x: x.strip())"
   ]
  },
  {
   "cell_type": "code",
   "execution_count": 10,
   "id": "8b7c0bf2",
   "metadata": {},
   "outputs": [],
   "source": [
    "athletes['events']=athletes['events'].apply(lambda x: x.strip())"
   ]
  },
  {
   "cell_type": "code",
   "execution_count": 13,
   "id": "ed02228e",
   "metadata": {},
   "outputs": [],
   "source": [
    "athletes.drop(columns=['code', 'current', 'name_short', 'name_tv',\n",
    "       'function', 'country_code', 'country_long', 'nationality',\n",
    "       'nationality_long', 'nationality_code', 'height', 'weight',\n",
    "        'birth_date', 'birth_place', 'birth_country',\n",
    "       'residence_place', 'residence_country', 'nickname', 'hobbies',\n",
    "       'occupation', 'education', 'family', 'lang', 'coach', 'reason', 'hero',\n",
    "       'influence', 'philosophy', 'sporting_relatives', 'ritual',\n",
    "       'other_sports'],inplace=True)"
   ]
  },
  {
   "cell_type": "code",
   "execution_count": 15,
   "id": "cd9440d0",
   "metadata": {},
   "outputs": [],
   "source": [
    "athletes.to_csv(\"filtered_athlete.csv\")"
   ]
  },
  {
   "cell_type": "code",
   "execution_count": 38,
   "id": "730b7ca6",
   "metadata": {},
   "outputs": [],
   "source": [
    "medals=pd.read_csv(\"medals.csv\")"
   ]
  },
  {
   "cell_type": "code",
   "execution_count": 39,
   "id": "76c17c57",
   "metadata": {},
   "outputs": [
    {
     "data": {
      "text/plain": [
       "medal_type      0\n",
       "medal_code      1\n",
       "medal_date      0\n",
       "name            0\n",
       "gender          0\n",
       "discipline      0\n",
       "event           0\n",
       "event_type      0\n",
       "url_event       9\n",
       "code            0\n",
       "country_code    0\n",
       "country         0\n",
       "country_long    0\n",
       "dtype: int64"
      ]
     },
     "execution_count": 39,
     "metadata": {},
     "output_type": "execute_result"
    }
   ],
   "source": [
    "medals.isnull().sum()"
   ]
  },
  {
   "cell_type": "code",
   "execution_count": 40,
   "id": "18b2ad9b",
   "metadata": {},
   "outputs": [],
   "source": [
    "medals['event']=medals['event'].apply(lambda x: x.replace(\"'\",\"\"))"
   ]
  },
  {
   "cell_type": "code",
   "execution_count": 42,
   "id": "4b14084d",
   "metadata": {},
   "outputs": [],
   "source": [
    "medals['discipline']=medals['discipline'].apply(lambda x: x.strip())\n",
    "medals['event']=medals['event'].apply(lambda x: x.strip())"
   ]
  },
  {
   "cell_type": "code",
   "execution_count": 43,
   "id": "750302d8",
   "metadata": {},
   "outputs": [],
   "source": [
    "medals.drop(columns=['medal_code', 'medal_date', 'name', 'gender', 'event_type', 'url_event',\n",
    "       'country_code', 'country', 'country_long'],inplace=True)"
   ]
  },
  {
   "cell_type": "code",
   "execution_count": 44,
   "id": "bef8b98d",
   "metadata": {},
   "outputs": [],
   "source": [
    "athletes['code']=athletes['code'].astype(str)"
   ]
  },
  {
   "cell_type": "code",
   "execution_count": 45,
   "id": "284ef4e0",
   "metadata": {},
   "outputs": [
    {
     "data": {
      "text/plain": [
       "(15033, 11)"
      ]
     },
     "execution_count": 45,
     "metadata": {},
     "output_type": "execute_result"
    }
   ],
   "source": [
    "athletes.shape"
   ]
  },
  {
   "cell_type": "code",
   "execution_count": 46,
   "id": "f2268cfc",
   "metadata": {},
   "outputs": [],
   "source": [
    "new_df=pd.merge(athletes,medals, left_on=[\"code\",\"events\",\"disciplines\"],right_on=[\"code\",\"event\",\"discipline\"],how=\"left\")"
   ]
  },
  {
   "cell_type": "code",
   "execution_count": 47,
   "id": "515c7a3a",
   "metadata": {},
   "outputs": [],
   "source": [
    "new_df.drop(columns=['birth_date','lang','height','weight'],inplace=True)"
   ]
  },
  {
   "cell_type": "code",
   "execution_count": 48,
   "id": "cc4b247b",
   "metadata": {},
   "outputs": [],
   "source": [
    "new_df.rename(columns={\n",
    "    \"name_x\":\"name\",\n",
    "    \"gender_x\":\"gender\",\n",
    "    \"country_x\": \"country\"\n",
    "},inplace=True)"
   ]
  },
  {
   "cell_type": "code",
   "execution_count": 50,
   "id": "7a2f859e",
   "metadata": {},
   "outputs": [
    {
     "data": {
      "text/html": [
       "<div>\n",
       "<style scoped>\n",
       "    .dataframe tbody tr th:only-of-type {\n",
       "        vertical-align: middle;\n",
       "    }\n",
       "\n",
       "    .dataframe tbody tr th {\n",
       "        vertical-align: top;\n",
       "    }\n",
       "\n",
       "    .dataframe thead th {\n",
       "        text-align: right;\n",
       "    }\n",
       "</style>\n",
       "<table border=\"1\" class=\"dataframe\">\n",
       "  <thead>\n",
       "    <tr style=\"text-align: right;\">\n",
       "      <th></th>\n",
       "      <th>code</th>\n",
       "      <th>name</th>\n",
       "      <th>gender</th>\n",
       "      <th>country</th>\n",
       "      <th>disciplines</th>\n",
       "      <th>events</th>\n",
       "      <th>age</th>\n",
       "      <th>medal_type</th>\n",
       "      <th>discipline</th>\n",
       "      <th>event</th>\n",
       "    </tr>\n",
       "  </thead>\n",
       "  <tbody>\n",
       "    <tr>\n",
       "      <th>12450</th>\n",
       "      <td>1959861</td>\n",
       "      <td>BILES Simone</td>\n",
       "      <td>Female</td>\n",
       "      <td>United States</td>\n",
       "      <td>Artistic Gymnastics</td>\n",
       "      <td>Womens Vault</td>\n",
       "      <td>27</td>\n",
       "      <td>Gold Medal</td>\n",
       "      <td>Artistic Gymnastics</td>\n",
       "      <td>Womens Vault</td>\n",
       "    </tr>\n",
       "    <tr>\n",
       "      <th>5131</th>\n",
       "      <td>1899130</td>\n",
       "      <td>NIN REYES Audrys</td>\n",
       "      <td>Male</td>\n",
       "      <td>Dominican Republic</td>\n",
       "      <td>Artistic Gymnastics</td>\n",
       "      <td>Mens Horizontal Bar</td>\n",
       "      <td>29</td>\n",
       "      <td>NaN</td>\n",
       "      <td>NaN</td>\n",
       "      <td>NaN</td>\n",
       "    </tr>\n",
       "    <tr>\n",
       "      <th>1347</th>\n",
       "      <td>1552175</td>\n",
       "      <td>POLINARI Anna</td>\n",
       "      <td>Female</td>\n",
       "      <td>Italy</td>\n",
       "      <td>Athletics</td>\n",
       "      <td>4 x 400m Relay Mixed</td>\n",
       "      <td>25</td>\n",
       "      <td>NaN</td>\n",
       "      <td>NaN</td>\n",
       "      <td>NaN</td>\n",
       "    </tr>\n",
       "    <tr>\n",
       "      <th>2709</th>\n",
       "      <td>1569965</td>\n",
       "      <td>DEMIREL Muhammed</td>\n",
       "      <td>Male</td>\n",
       "      <td>Türkiye</td>\n",
       "      <td>Judo</td>\n",
       "      <td>Men -66 kg</td>\n",
       "      <td>22</td>\n",
       "      <td>NaN</td>\n",
       "      <td>NaN</td>\n",
       "      <td>NaN</td>\n",
       "    </tr>\n",
       "  </tbody>\n",
       "</table>\n",
       "</div>"
      ],
      "text/plain": [
       "          code              name  gender             country  \\\n",
       "12450  1959861      BILES Simone  Female       United States   \n",
       "5131   1899130  NIN REYES Audrys    Male  Dominican Republic   \n",
       "1347   1552175     POLINARI Anna  Female               Italy   \n",
       "2709   1569965  DEMIREL Muhammed    Male             Türkiye   \n",
       "\n",
       "               disciplines                events  age  medal_type  \\\n",
       "12450  Artistic Gymnastics          Womens Vault   27  Gold Medal   \n",
       "5131   Artistic Gymnastics   Mens Horizontal Bar   29         NaN   \n",
       "1347             Athletics  4 x 400m Relay Mixed   25         NaN   \n",
       "2709                  Judo            Men -66 kg   22         NaN   \n",
       "\n",
       "                discipline         event  \n",
       "12450  Artistic Gymnastics  Womens Vault  \n",
       "5131                   NaN           NaN  \n",
       "1347                   NaN           NaN  \n",
       "2709                   NaN           NaN  "
      ]
     },
     "execution_count": 50,
     "metadata": {},
     "output_type": "execute_result"
    }
   ],
   "source": [
    "new_df.sample(4)"
   ]
  },
  {
   "cell_type": "code",
   "execution_count": 51,
   "id": "4874b5dc",
   "metadata": {},
   "outputs": [
    {
     "data": {
      "text/html": [
       "<div>\n",
       "<style scoped>\n",
       "    .dataframe tbody tr th:only-of-type {\n",
       "        vertical-align: middle;\n",
       "    }\n",
       "\n",
       "    .dataframe tbody tr th {\n",
       "        vertical-align: top;\n",
       "    }\n",
       "\n",
       "    .dataframe thead th {\n",
       "        text-align: right;\n",
       "    }\n",
       "</style>\n",
       "<table border=\"1\" class=\"dataframe\">\n",
       "  <thead>\n",
       "    <tr style=\"text-align: right;\">\n",
       "      <th></th>\n",
       "      <th>code</th>\n",
       "      <th>name</th>\n",
       "      <th>gender</th>\n",
       "      <th>country</th>\n",
       "      <th>disciplines</th>\n",
       "      <th>events</th>\n",
       "      <th>age</th>\n",
       "      <th>medal_type</th>\n",
       "      <th>discipline</th>\n",
       "      <th>event</th>\n",
       "    </tr>\n",
       "  </thead>\n",
       "  <tbody>\n",
       "    <tr>\n",
       "      <th>4812</th>\n",
       "      <td>1897155</td>\n",
       "      <td>RYBACHOK Anastasiia</td>\n",
       "      <td>Female</td>\n",
       "      <td>Ukraine</td>\n",
       "      <td>Canoe Sprint</td>\n",
       "      <td>Womens Canoe Single 200m</td>\n",
       "      <td>26</td>\n",
       "      <td>NaN</td>\n",
       "      <td>NaN</td>\n",
       "      <td>NaN</td>\n",
       "    </tr>\n",
       "    <tr>\n",
       "      <th>4813</th>\n",
       "      <td>1897155</td>\n",
       "      <td>RYBACHOK Anastasiia</td>\n",
       "      <td>Female</td>\n",
       "      <td>Ukraine</td>\n",
       "      <td>Canoe Sprint</td>\n",
       "      <td>Womens Canoe Double 500m</td>\n",
       "      <td>26</td>\n",
       "      <td>NaN</td>\n",
       "      <td>NaN</td>\n",
       "      <td>NaN</td>\n",
       "    </tr>\n",
       "  </tbody>\n",
       "</table>\n",
       "</div>"
      ],
      "text/plain": [
       "         code                 name  gender  country   disciplines  \\\n",
       "4812  1897155  RYBACHOK Anastasiia  Female  Ukraine  Canoe Sprint   \n",
       "4813  1897155  RYBACHOK Anastasiia  Female  Ukraine  Canoe Sprint   \n",
       "\n",
       "                        events  age medal_type discipline event  \n",
       "4812  Womens Canoe Single 200m   26        NaN        NaN   NaN  \n",
       "4813  Womens Canoe Double 500m   26        NaN        NaN   NaN  "
      ]
     },
     "execution_count": 51,
     "metadata": {},
     "output_type": "execute_result"
    }
   ],
   "source": [
    "new_df[new_df['code']==\"1897155\"]"
   ]
  },
  {
   "cell_type": "markdown",
   "id": "373f08b7",
   "metadata": {},
   "source": [
    "## Merging with team"
   ]
  },
  {
   "cell_type": "code",
   "execution_count": 52,
   "id": "9ed2dd79",
   "metadata": {},
   "outputs": [],
   "source": [
    "teams=pd.read_csv('teams.csv')"
   ]
  },
  {
   "cell_type": "code",
   "execution_count": 53,
   "id": "7deda9bf",
   "metadata": {},
   "outputs": [],
   "source": [
    "teams['events']=teams['events'].astype(str)"
   ]
  },
  {
   "cell_type": "code",
   "execution_count": 54,
   "id": "8c628189",
   "metadata": {},
   "outputs": [],
   "source": [
    "teams['events']=teams['events'].apply(lambda x: x.replace(\"'\",\"\"))"
   ]
  },
  {
   "cell_type": "code",
   "execution_count": null,
   "id": "039492aa",
   "metadata": {},
   "outputs": [],
   "source": []
  },
  {
   "cell_type": "code",
   "execution_count": 56,
   "id": "5ec818f8",
   "metadata": {},
   "outputs": [],
   "source": [
    "teams.rename(columns={\n",
    "    'events':'event'\n",
    "},inplace=True)"
   ]
  },
  {
   "cell_type": "code",
   "execution_count": 57,
   "id": "64a9bc15",
   "metadata": {},
   "outputs": [],
   "source": [
    "teams.drop(columns=[\n",
    "    'current','team','team_gender','country_code','country_long','disciplines_code','athletes','coaches_codes',\n",
    "    'num_coaches','coaches'\n",
    "],inplace=True)"
   ]
  },
  {
   "cell_type": "code",
   "execution_count": 58,
   "id": "024e2f77",
   "metadata": {},
   "outputs": [],
   "source": [
    "teams['discipline']=teams['discipline'].apply(lambda x: x.strip())\n",
    "teams['event']=teams['event'].apply(lambda x: x.strip())"
   ]
  },
  {
   "cell_type": "code",
   "execution_count": 59,
   "id": "f4afb1dd",
   "metadata": {},
   "outputs": [
    {
     "data": {
      "text/html": [
       "<div>\n",
       "<style scoped>\n",
       "    .dataframe tbody tr th:only-of-type {\n",
       "        vertical-align: middle;\n",
       "    }\n",
       "\n",
       "    .dataframe tbody tr th {\n",
       "        vertical-align: top;\n",
       "    }\n",
       "\n",
       "    .dataframe thead th {\n",
       "        text-align: right;\n",
       "    }\n",
       "</style>\n",
       "<table border=\"1\" class=\"dataframe\">\n",
       "  <thead>\n",
       "    <tr style=\"text-align: right;\">\n",
       "      <th></th>\n",
       "      <th>medal_type</th>\n",
       "      <th>discipline</th>\n",
       "      <th>event</th>\n",
       "      <th>code</th>\n",
       "    </tr>\n",
       "  </thead>\n",
       "  <tbody>\n",
       "    <tr>\n",
       "      <th>396</th>\n",
       "      <td>Silver Medal</td>\n",
       "      <td>Judo</td>\n",
       "      <td>Mixed Team</td>\n",
       "      <td>JUDXTEAM6---JPN01</td>\n",
       "    </tr>\n",
       "    <tr>\n",
       "      <th>577</th>\n",
       "      <td>Bronze Medal</td>\n",
       "      <td>Athletics</td>\n",
       "      <td>Mens 1500m</td>\n",
       "      <td>1965327</td>\n",
       "    </tr>\n",
       "    <tr>\n",
       "      <th>312</th>\n",
       "      <td>Bronze Medal</td>\n",
       "      <td>Judo</td>\n",
       "      <td>Women +78 kg</td>\n",
       "      <td>1928070</td>\n",
       "    </tr>\n",
       "    <tr>\n",
       "      <th>110</th>\n",
       "      <td>Silver Medal</td>\n",
       "      <td>Judo</td>\n",
       "      <td>Men -73 kg</td>\n",
       "      <td>1891311</td>\n",
       "    </tr>\n",
       "  </tbody>\n",
       "</table>\n",
       "</div>"
      ],
      "text/plain": [
       "       medal_type discipline         event               code\n",
       "396  Silver Medal       Judo    Mixed Team  JUDXTEAM6---JPN01\n",
       "577  Bronze Medal  Athletics    Mens 1500m            1965327\n",
       "312  Bronze Medal       Judo  Women +78 kg            1928070\n",
       "110  Silver Medal       Judo    Men -73 kg            1891311"
      ]
     },
     "execution_count": 59,
     "metadata": {},
     "output_type": "execute_result"
    }
   ],
   "source": [
    "medals.sample(4)"
   ]
  },
  {
   "cell_type": "code",
   "execution_count": 60,
   "id": "da8958f6",
   "metadata": {},
   "outputs": [
    {
     "data": {
      "text/html": [
       "<div>\n",
       "<style scoped>\n",
       "    .dataframe tbody tr th:only-of-type {\n",
       "        vertical-align: middle;\n",
       "    }\n",
       "\n",
       "    .dataframe tbody tr th {\n",
       "        vertical-align: top;\n",
       "    }\n",
       "\n",
       "    .dataframe thead th {\n",
       "        text-align: right;\n",
       "    }\n",
       "</style>\n",
       "<table border=\"1\" class=\"dataframe\">\n",
       "  <thead>\n",
       "    <tr style=\"text-align: right;\">\n",
       "      <th></th>\n",
       "      <th>code</th>\n",
       "      <th>country</th>\n",
       "      <th>discipline</th>\n",
       "      <th>event</th>\n",
       "      <th>athletes_codes</th>\n",
       "      <th>num_athletes</th>\n",
       "    </tr>\n",
       "  </thead>\n",
       "  <tbody>\n",
       "    <tr>\n",
       "      <th>586</th>\n",
       "      <td>GRYW5AA-----EGY01</td>\n",
       "      <td>Egypt</td>\n",
       "      <td>Rhythmic Gymnastics</td>\n",
       "      <td>Group All-Around</td>\n",
       "      <td>['1562782', '1562596', '1562222', '1978541', '...</td>\n",
       "      <td>5.0</td>\n",
       "    </tr>\n",
       "    <tr>\n",
       "      <th>1534</th>\n",
       "      <td>TENXDOUBLES-GRE01</td>\n",
       "      <td>Greece</td>\n",
       "      <td>Tennis</td>\n",
       "      <td>Mixed Doubles</td>\n",
       "      <td>['1961362', '1961363']</td>\n",
       "      <td>2.0</td>\n",
       "    </tr>\n",
       "    <tr>\n",
       "      <th>239</th>\n",
       "      <td>BKBWTEAM5---GER01</td>\n",
       "      <td>Germany</td>\n",
       "      <td>Basketball</td>\n",
       "      <td>Women</td>\n",
       "      <td>['1898822', '1898808', '1898849', '1898830', '...</td>\n",
       "      <td>12.0</td>\n",
       "    </tr>\n",
       "    <tr>\n",
       "      <th>351</th>\n",
       "      <td>CTRMPURTEAM4FRA01</td>\n",
       "      <td>France</td>\n",
       "      <td>Cycling Track</td>\n",
       "      <td>Mens Team Pursuit</td>\n",
       "      <td>['1895647', '1895663', '1895716', '1895717', '...</td>\n",
       "      <td>5.0</td>\n",
       "    </tr>\n",
       "  </tbody>\n",
       "</table>\n",
       "</div>"
      ],
      "text/plain": [
       "                   code  country           discipline              event  \\\n",
       "586   GRYW5AA-----EGY01    Egypt  Rhythmic Gymnastics   Group All-Around   \n",
       "1534  TENXDOUBLES-GRE01   Greece               Tennis      Mixed Doubles   \n",
       "239   BKBWTEAM5---GER01  Germany           Basketball              Women   \n",
       "351   CTRMPURTEAM4FRA01   France        Cycling Track  Mens Team Pursuit   \n",
       "\n",
       "                                         athletes_codes  num_athletes  \n",
       "586   ['1562782', '1562596', '1562222', '1978541', '...           5.0  \n",
       "1534                             ['1961362', '1961363']           2.0  \n",
       "239   ['1898822', '1898808', '1898849', '1898830', '...          12.0  \n",
       "351   ['1895647', '1895663', '1895716', '1895717', '...           5.0  "
      ]
     },
     "execution_count": 60,
     "metadata": {},
     "output_type": "execute_result"
    }
   ],
   "source": [
    "teams.sample(4)"
   ]
  },
  {
   "cell_type": "code",
   "execution_count": 65,
   "id": "00346ea1",
   "metadata": {},
   "outputs": [],
   "source": [
    "# medals.info()"
   ]
  },
  {
   "cell_type": "code",
   "execution_count": 66,
   "id": "e9aa1b28",
   "metadata": {},
   "outputs": [],
   "source": [
    "teams_medals = pd.merge(teams,medals,on=[\"code\",\"discipline\",'event'],how=\"inner\")"
   ]
  },
  {
   "cell_type": "code",
   "execution_count": 67,
   "id": "6365188e",
   "metadata": {},
   "outputs": [
    {
     "data": {
      "text/html": [
       "<div>\n",
       "<style scoped>\n",
       "    .dataframe tbody tr th:only-of-type {\n",
       "        vertical-align: middle;\n",
       "    }\n",
       "\n",
       "    .dataframe tbody tr th {\n",
       "        vertical-align: top;\n",
       "    }\n",
       "\n",
       "    .dataframe thead th {\n",
       "        text-align: right;\n",
       "    }\n",
       "</style>\n",
       "<table border=\"1\" class=\"dataframe\">\n",
       "  <thead>\n",
       "    <tr style=\"text-align: right;\">\n",
       "      <th></th>\n",
       "      <th>code</th>\n",
       "      <th>country</th>\n",
       "      <th>discipline</th>\n",
       "      <th>event</th>\n",
       "      <th>athletes_codes</th>\n",
       "      <th>num_athletes</th>\n",
       "      <th>medal_type</th>\n",
       "    </tr>\n",
       "  </thead>\n",
       "  <tbody>\n",
       "    <tr>\n",
       "      <th>0</th>\n",
       "      <td>ARCMTEAM3---FRA01</td>\n",
       "      <td>France</td>\n",
       "      <td>Archery</td>\n",
       "      <td>Mens Team</td>\n",
       "      <td>['1541270', '1541272', '1541275']</td>\n",
       "      <td>3.0</td>\n",
       "      <td>Silver Medal</td>\n",
       "    </tr>\n",
       "    <tr>\n",
       "      <th>1</th>\n",
       "      <td>ARCMTEAM3---KOR01</td>\n",
       "      <td>Korea</td>\n",
       "      <td>Archery</td>\n",
       "      <td>Mens Team</td>\n",
       "      <td>['1902130', '1902135', '1902144']</td>\n",
       "      <td>3.0</td>\n",
       "      <td>Gold Medal</td>\n",
       "    </tr>\n",
       "    <tr>\n",
       "      <th>2</th>\n",
       "      <td>ARCMTEAM3---TUR01</td>\n",
       "      <td>Türkiye</td>\n",
       "      <td>Archery</td>\n",
       "      <td>Mens Team</td>\n",
       "      <td>['1565000', '1565002', '1565006']</td>\n",
       "      <td>3.0</td>\n",
       "      <td>Bronze Medal</td>\n",
       "    </tr>\n",
       "    <tr>\n",
       "      <th>3</th>\n",
       "      <td>ARCWTEAM3---CHN01</td>\n",
       "      <td>China</td>\n",
       "      <td>Archery</td>\n",
       "      <td>Womens Team</td>\n",
       "      <td>['1913382', '1913372', '1913380']</td>\n",
       "      <td>3.0</td>\n",
       "      <td>Silver Medal</td>\n",
       "    </tr>\n",
       "    <tr>\n",
       "      <th>4</th>\n",
       "      <td>ARCWTEAM3---KOR01</td>\n",
       "      <td>Korea</td>\n",
       "      <td>Archery</td>\n",
       "      <td>Womens Team</td>\n",
       "      <td>['1902121', '1902147', '1902148']</td>\n",
       "      <td>3.0</td>\n",
       "      <td>Gold Medal</td>\n",
       "    </tr>\n",
       "    <tr>\n",
       "      <th>...</th>\n",
       "      <td>...</td>\n",
       "      <td>...</td>\n",
       "      <td>...</td>\n",
       "      <td>...</td>\n",
       "      <td>...</td>\n",
       "      <td>...</td>\n",
       "      <td>...</td>\n",
       "    </tr>\n",
       "    <tr>\n",
       "      <th>279</th>\n",
       "      <td>WPOMTEAM7---SRB01</td>\n",
       "      <td>Serbia</td>\n",
       "      <td>Water Polo</td>\n",
       "      <td>Men</td>\n",
       "      <td>['1956434', '1956444', '1956459', '1956456', '...</td>\n",
       "      <td>13.0</td>\n",
       "      <td>Gold Medal</td>\n",
       "    </tr>\n",
       "    <tr>\n",
       "      <th>280</th>\n",
       "      <td>WPOMTEAM7---USA01</td>\n",
       "      <td>United States</td>\n",
       "      <td>Water Polo</td>\n",
       "      <td>Men</td>\n",
       "      <td>['1908370', '1908360', '1908369', '1908365', '...</td>\n",
       "      <td>13.0</td>\n",
       "      <td>Bronze Medal</td>\n",
       "    </tr>\n",
       "    <tr>\n",
       "      <th>281</th>\n",
       "      <td>WPOWTEAM7---AUS01</td>\n",
       "      <td>Australia</td>\n",
       "      <td>Water Polo</td>\n",
       "      <td>Women</td>\n",
       "      <td>['1947514', '1947523', '1947513', '1947506', '...</td>\n",
       "      <td>13.0</td>\n",
       "      <td>Silver Medal</td>\n",
       "    </tr>\n",
       "    <tr>\n",
       "      <th>282</th>\n",
       "      <td>WPOWTEAM7---ESP01</td>\n",
       "      <td>Spain</td>\n",
       "      <td>Water Polo</td>\n",
       "      <td>Women</td>\n",
       "      <td>['1954878', '1954897', '1954877', '1954893', '...</td>\n",
       "      <td>13.0</td>\n",
       "      <td>Gold Medal</td>\n",
       "    </tr>\n",
       "    <tr>\n",
       "      <th>283</th>\n",
       "      <td>WPOWTEAM7---NED01</td>\n",
       "      <td>Netherlands</td>\n",
       "      <td>Water Polo</td>\n",
       "      <td>Women</td>\n",
       "      <td>['1968845', '1968848', '1968857', '1968858', '...</td>\n",
       "      <td>13.0</td>\n",
       "      <td>Bronze Medal</td>\n",
       "    </tr>\n",
       "  </tbody>\n",
       "</table>\n",
       "<p>284 rows × 7 columns</p>\n",
       "</div>"
      ],
      "text/plain": [
       "                  code        country  discipline        event  \\\n",
       "0    ARCMTEAM3---FRA01         France     Archery    Mens Team   \n",
       "1    ARCMTEAM3---KOR01          Korea     Archery    Mens Team   \n",
       "2    ARCMTEAM3---TUR01        Türkiye     Archery    Mens Team   \n",
       "3    ARCWTEAM3---CHN01          China     Archery  Womens Team   \n",
       "4    ARCWTEAM3---KOR01          Korea     Archery  Womens Team   \n",
       "..                 ...            ...         ...          ...   \n",
       "279  WPOMTEAM7---SRB01         Serbia  Water Polo          Men   \n",
       "280  WPOMTEAM7---USA01  United States  Water Polo          Men   \n",
       "281  WPOWTEAM7---AUS01      Australia  Water Polo        Women   \n",
       "282  WPOWTEAM7---ESP01          Spain  Water Polo        Women   \n",
       "283  WPOWTEAM7---NED01    Netherlands  Water Polo        Women   \n",
       "\n",
       "                                        athletes_codes  num_athletes  \\\n",
       "0                    ['1541270', '1541272', '1541275']           3.0   \n",
       "1                    ['1902130', '1902135', '1902144']           3.0   \n",
       "2                    ['1565000', '1565002', '1565006']           3.0   \n",
       "3                    ['1913382', '1913372', '1913380']           3.0   \n",
       "4                    ['1902121', '1902147', '1902148']           3.0   \n",
       "..                                                 ...           ...   \n",
       "279  ['1956434', '1956444', '1956459', '1956456', '...          13.0   \n",
       "280  ['1908370', '1908360', '1908369', '1908365', '...          13.0   \n",
       "281  ['1947514', '1947523', '1947513', '1947506', '...          13.0   \n",
       "282  ['1954878', '1954897', '1954877', '1954893', '...          13.0   \n",
       "283  ['1968845', '1968848', '1968857', '1968858', '...          13.0   \n",
       "\n",
       "       medal_type  \n",
       "0    Silver Medal  \n",
       "1      Gold Medal  \n",
       "2    Bronze Medal  \n",
       "3    Silver Medal  \n",
       "4      Gold Medal  \n",
       "..            ...  \n",
       "279    Gold Medal  \n",
       "280  Bronze Medal  \n",
       "281  Silver Medal  \n",
       "282    Gold Medal  \n",
       "283  Bronze Medal  \n",
       "\n",
       "[284 rows x 7 columns]"
      ]
     },
     "execution_count": 67,
     "metadata": {},
     "output_type": "execute_result"
    }
   ],
   "source": [
    "teams_medals"
   ]
  },
  {
   "cell_type": "code",
   "execution_count": 68,
   "id": "27aa051e",
   "metadata": {},
   "outputs": [],
   "source": [
    "teams_medals['athletes_codes']=teams_medals['athletes_codes'].apply(ast.literal_eval)"
   ]
  },
  {
   "cell_type": "code",
   "execution_count": 69,
   "id": "9493bde6",
   "metadata": {},
   "outputs": [
    {
     "data": {
      "text/plain": [
       "['1902130', '1902135', '1902144']"
      ]
     },
     "execution_count": 69,
     "metadata": {},
     "output_type": "execute_result"
    }
   ],
   "source": [
    "teams_medals['athletes_codes'][1]"
   ]
  },
  {
   "cell_type": "code",
   "execution_count": 70,
   "id": "4050b820",
   "metadata": {},
   "outputs": [],
   "source": [
    "teams_medals=teams_medals.explode('athletes_codes').reset_index(drop = True)"
   ]
  },
  {
   "cell_type": "code",
   "execution_count": 71,
   "id": "a45e973d",
   "metadata": {},
   "outputs": [
    {
     "data": {
      "text/plain": [
       "(1555, 7)"
      ]
     },
     "execution_count": 71,
     "metadata": {},
     "output_type": "execute_result"
    }
   ],
   "source": [
    "teams_medals.shape"
   ]
  },
  {
   "cell_type": "code",
   "execution_count": 72,
   "id": "911e631e",
   "metadata": {},
   "outputs": [
    {
     "data": {
      "text/html": [
       "<div>\n",
       "<style scoped>\n",
       "    .dataframe tbody tr th:only-of-type {\n",
       "        vertical-align: middle;\n",
       "    }\n",
       "\n",
       "    .dataframe tbody tr th {\n",
       "        vertical-align: top;\n",
       "    }\n",
       "\n",
       "    .dataframe thead th {\n",
       "        text-align: right;\n",
       "    }\n",
       "</style>\n",
       "<table border=\"1\" class=\"dataframe\">\n",
       "  <thead>\n",
       "    <tr style=\"text-align: right;\">\n",
       "      <th></th>\n",
       "      <th>team_code</th>\n",
       "      <th>country</th>\n",
       "      <th>discipline</th>\n",
       "      <th>event</th>\n",
       "      <th>code</th>\n",
       "      <th>num_athletes</th>\n",
       "      <th>team_medal</th>\n",
       "    </tr>\n",
       "  </thead>\n",
       "  <tbody>\n",
       "    <tr>\n",
       "      <th>1248</th>\n",
       "      <td>SWMM4X200MFRUSA01</td>\n",
       "      <td>United States</td>\n",
       "      <td>Swimming</td>\n",
       "      <td>Mens 4 x 200m Freestyle Relay</td>\n",
       "      <td>1935911</td>\n",
       "      <td>7.0</td>\n",
       "      <td>Silver Medal</td>\n",
       "    </tr>\n",
       "    <tr>\n",
       "      <th>65</th>\n",
       "      <td>ATHW4X100M--GBR01</td>\n",
       "      <td>Great Britain</td>\n",
       "      <td>Athletics</td>\n",
       "      <td>Womens 4 x 100m Relay</td>\n",
       "      <td>1924460</td>\n",
       "      <td>6.0</td>\n",
       "      <td>Silver Medal</td>\n",
       "    </tr>\n",
       "    <tr>\n",
       "      <th>696</th>\n",
       "      <td>HBLMTEAM7---GER01</td>\n",
       "      <td>Germany</td>\n",
       "      <td>Handball</td>\n",
       "      <td>Men</td>\n",
       "      <td>1899206</td>\n",
       "      <td>16.0</td>\n",
       "      <td>Silver Medal</td>\n",
       "    </tr>\n",
       "  </tbody>\n",
       "</table>\n",
       "</div>"
      ],
      "text/plain": [
       "              team_code        country discipline  \\\n",
       "1248  SWMM4X200MFRUSA01  United States   Swimming   \n",
       "65    ATHW4X100M--GBR01  Great Britain  Athletics   \n",
       "696   HBLMTEAM7---GER01        Germany   Handball   \n",
       "\n",
       "                              event     code  num_athletes    team_medal  \n",
       "1248  Mens 4 x 200m Freestyle Relay  1935911           7.0  Silver Medal  \n",
       "65            Womens 4 x 100m Relay  1924460           6.0  Silver Medal  \n",
       "696                             Men  1899206          16.0  Silver Medal  "
      ]
     },
     "execution_count": 72,
     "metadata": {},
     "output_type": "execute_result"
    }
   ],
   "source": [
    "teams_medals.rename(columns={\n",
    "    \"code\":\"team_code\",\n",
    "    \"athletes_codes\":\"code\",\n",
    "    \"medal_type\":\"team_medal\"\n",
    "},inplace=True)\n",
    "teams_medals.sample(3)"
   ]
  },
  {
   "cell_type": "markdown",
   "id": "73bf8099",
   "metadata": {},
   "source": [
    "## Making Final DF"
   ]
  },
  {
   "cell_type": "code",
   "execution_count": 73,
   "id": "61143ec9",
   "metadata": {},
   "outputs": [],
   "source": [
    "new_df.drop(columns=['discipline','event'],inplace=True)"
   ]
  },
  {
   "cell_type": "code",
   "execution_count": 75,
   "id": "eb5687a2",
   "metadata": {},
   "outputs": [],
   "source": [
    "new_df.rename(columns={\n",
    "    \"disciplines\":\"discipline\",\n",
    "    \"events\":\"event\"\n",
    "},inplace=True)"
   ]
  },
  {
   "cell_type": "code",
   "execution_count": 76,
   "id": "c433e188",
   "metadata": {},
   "outputs": [
    {
     "data": {
      "text/html": [
       "<div>\n",
       "<style scoped>\n",
       "    .dataframe tbody tr th:only-of-type {\n",
       "        vertical-align: middle;\n",
       "    }\n",
       "\n",
       "    .dataframe tbody tr th {\n",
       "        vertical-align: top;\n",
       "    }\n",
       "\n",
       "    .dataframe thead th {\n",
       "        text-align: right;\n",
       "    }\n",
       "</style>\n",
       "<table border=\"1\" class=\"dataframe\">\n",
       "  <thead>\n",
       "    <tr style=\"text-align: right;\">\n",
       "      <th></th>\n",
       "      <th>code</th>\n",
       "      <th>name</th>\n",
       "      <th>gender</th>\n",
       "      <th>country</th>\n",
       "      <th>discipline</th>\n",
       "      <th>event</th>\n",
       "      <th>age</th>\n",
       "      <th>medal_type</th>\n",
       "    </tr>\n",
       "  </thead>\n",
       "  <tbody>\n",
       "    <tr>\n",
       "      <th>0</th>\n",
       "      <td>1532872</td>\n",
       "      <td>ALEKSANYAN Artur</td>\n",
       "      <td>Male</td>\n",
       "      <td>Armenia</td>\n",
       "      <td>Wrestling</td>\n",
       "      <td>Mens Greco-Roman 97kg</td>\n",
       "      <td>33</td>\n",
       "      <td>Silver Medal</td>\n",
       "    </tr>\n",
       "    <tr>\n",
       "      <th>1</th>\n",
       "      <td>1532873</td>\n",
       "      <td>AMOYAN Malkhas</td>\n",
       "      <td>Male</td>\n",
       "      <td>Armenia</td>\n",
       "      <td>Wrestling</td>\n",
       "      <td>Mens Greco-Roman 77kg</td>\n",
       "      <td>25</td>\n",
       "      <td>Bronze Medal</td>\n",
       "    </tr>\n",
       "    <tr>\n",
       "      <th>2</th>\n",
       "      <td>1532874</td>\n",
       "      <td>GALSTYAN Slavik</td>\n",
       "      <td>Male</td>\n",
       "      <td>Armenia</td>\n",
       "      <td>Wrestling</td>\n",
       "      <td>Mens Greco-Roman 67kg</td>\n",
       "      <td>28</td>\n",
       "      <td>NaN</td>\n",
       "    </tr>\n",
       "    <tr>\n",
       "      <th>3</th>\n",
       "      <td>1532944</td>\n",
       "      <td>HARUTYUNYAN Arsen</td>\n",
       "      <td>Male</td>\n",
       "      <td>Armenia</td>\n",
       "      <td>Wrestling</td>\n",
       "      <td>Mens Freestyle 57kg</td>\n",
       "      <td>25</td>\n",
       "      <td>NaN</td>\n",
       "    </tr>\n",
       "    <tr>\n",
       "      <th>4</th>\n",
       "      <td>1532945</td>\n",
       "      <td>TEVANYAN Vazgen</td>\n",
       "      <td>Male</td>\n",
       "      <td>Armenia</td>\n",
       "      <td>Wrestling</td>\n",
       "      <td>Mens Freestyle 65kg</td>\n",
       "      <td>25</td>\n",
       "      <td>NaN</td>\n",
       "    </tr>\n",
       "    <tr>\n",
       "      <th>...</th>\n",
       "      <td>...</td>\n",
       "      <td>...</td>\n",
       "      <td>...</td>\n",
       "      <td>...</td>\n",
       "      <td>...</td>\n",
       "      <td>...</td>\n",
       "      <td>...</td>\n",
       "      <td>...</td>\n",
       "    </tr>\n",
       "    <tr>\n",
       "      <th>15028</th>\n",
       "      <td>4986655</td>\n",
       "      <td>ADA ETO Sefora</td>\n",
       "      <td>Female</td>\n",
       "      <td>Equatorial Guinea</td>\n",
       "      <td>Athletics</td>\n",
       "      <td>Womens 100m</td>\n",
       "      <td>21</td>\n",
       "      <td>NaN</td>\n",
       "    </tr>\n",
       "    <tr>\n",
       "      <th>15029</th>\n",
       "      <td>9460001</td>\n",
       "      <td>LIUZZI Emanuela</td>\n",
       "      <td>Female</td>\n",
       "      <td>Italy</td>\n",
       "      <td>Wrestling</td>\n",
       "      <td>Womens Freestyle 50kg</td>\n",
       "      <td>24</td>\n",
       "      <td>NaN</td>\n",
       "    </tr>\n",
       "    <tr>\n",
       "      <th>15030</th>\n",
       "      <td>1972077</td>\n",
       "      <td>BOERS Isayah</td>\n",
       "      <td>Male</td>\n",
       "      <td>Netherlands</td>\n",
       "      <td>Athletics</td>\n",
       "      <td>4 x 400m Relay Mixed</td>\n",
       "      <td>25</td>\n",
       "      <td>NaN</td>\n",
       "    </tr>\n",
       "    <tr>\n",
       "      <th>15031</th>\n",
       "      <td>1899865</td>\n",
       "      <td>STAUT Kevin</td>\n",
       "      <td>Male</td>\n",
       "      <td>France</td>\n",
       "      <td>Equestrian</td>\n",
       "      <td>Jumping Team</td>\n",
       "      <td>44</td>\n",
       "      <td>NaN</td>\n",
       "    </tr>\n",
       "    <tr>\n",
       "      <th>15032</th>\n",
       "      <td>1924402</td>\n",
       "      <td>CARVELL Charlie</td>\n",
       "      <td>Male</td>\n",
       "      <td>Great Britain</td>\n",
       "      <td>Athletics</td>\n",
       "      <td>Mens 4 x 400m Relay</td>\n",
       "      <td>20</td>\n",
       "      <td>NaN</td>\n",
       "    </tr>\n",
       "  </tbody>\n",
       "</table>\n",
       "<p>15033 rows × 8 columns</p>\n",
       "</div>"
      ],
      "text/plain": [
       "          code               name  gender            country  discipline  \\\n",
       "0      1532872   ALEKSANYAN Artur    Male            Armenia   Wrestling   \n",
       "1      1532873     AMOYAN Malkhas    Male            Armenia   Wrestling   \n",
       "2      1532874    GALSTYAN Slavik    Male            Armenia   Wrestling   \n",
       "3      1532944  HARUTYUNYAN Arsen    Male            Armenia   Wrestling   \n",
       "4      1532945    TEVANYAN Vazgen    Male            Armenia   Wrestling   \n",
       "...        ...                ...     ...                ...         ...   \n",
       "15028  4986655     ADA ETO Sefora  Female  Equatorial Guinea   Athletics   \n",
       "15029  9460001    LIUZZI Emanuela  Female              Italy   Wrestling   \n",
       "15030  1972077       BOERS Isayah    Male        Netherlands   Athletics   \n",
       "15031  1899865        STAUT Kevin    Male             France  Equestrian   \n",
       "15032  1924402    CARVELL Charlie    Male      Great Britain   Athletics   \n",
       "\n",
       "                       event  age    medal_type  \n",
       "0      Mens Greco-Roman 97kg   33  Silver Medal  \n",
       "1      Mens Greco-Roman 77kg   25  Bronze Medal  \n",
       "2      Mens Greco-Roman 67kg   28           NaN  \n",
       "3        Mens Freestyle 57kg   25           NaN  \n",
       "4        Mens Freestyle 65kg   25           NaN  \n",
       "...                      ...  ...           ...  \n",
       "15028            Womens 100m   21           NaN  \n",
       "15029  Womens Freestyle 50kg   24           NaN  \n",
       "15030   4 x 400m Relay Mixed   25           NaN  \n",
       "15031           Jumping Team   44           NaN  \n",
       "15032    Mens 4 x 400m Relay   20           NaN  \n",
       "\n",
       "[15033 rows x 8 columns]"
      ]
     },
     "execution_count": 76,
     "metadata": {},
     "output_type": "execute_result"
    }
   ],
   "source": [
    "new_df"
   ]
  },
  {
   "cell_type": "code",
   "execution_count": 77,
   "id": "c8449647",
   "metadata": {},
   "outputs": [],
   "source": [
    "new_df['discipline']=new_df['discipline'].apply(lambda x: x.strip())\n",
    "new_df['event']=new_df['event'].apply(lambda x: x.strip())"
   ]
  },
  {
   "cell_type": "code",
   "execution_count": null,
   "id": "e2b069ad",
   "metadata": {},
   "outputs": [],
   "source": []
  },
  {
   "cell_type": "code",
   "execution_count": 78,
   "id": "e894f26b",
   "metadata": {},
   "outputs": [
    {
     "data": {
      "text/html": [
       "<div>\n",
       "<style scoped>\n",
       "    .dataframe tbody tr th:only-of-type {\n",
       "        vertical-align: middle;\n",
       "    }\n",
       "\n",
       "    .dataframe tbody tr th {\n",
       "        vertical-align: top;\n",
       "    }\n",
       "\n",
       "    .dataframe thead th {\n",
       "        text-align: right;\n",
       "    }\n",
       "</style>\n",
       "<table border=\"1\" class=\"dataframe\">\n",
       "  <thead>\n",
       "    <tr style=\"text-align: right;\">\n",
       "      <th></th>\n",
       "      <th>team_code</th>\n",
       "      <th>country</th>\n",
       "      <th>discipline</th>\n",
       "      <th>event</th>\n",
       "      <th>code</th>\n",
       "      <th>num_athletes</th>\n",
       "      <th>team_medal</th>\n",
       "    </tr>\n",
       "  </thead>\n",
       "  <tbody>\n",
       "    <tr>\n",
       "      <th>270</th>\n",
       "      <td>CSPWC2-500M-UKR01</td>\n",
       "      <td>Ukraine</td>\n",
       "      <td>Canoe Sprint</td>\n",
       "      <td>Womens Canoe Double 500m</td>\n",
       "      <td>1897153</td>\n",
       "      <td>2.0</td>\n",
       "      <td>Silver Medal</td>\n",
       "    </tr>\n",
       "    <tr>\n",
       "      <th>271</th>\n",
       "      <td>CSPWC2-500M-UKR01</td>\n",
       "      <td>Ukraine</td>\n",
       "      <td>Canoe Sprint</td>\n",
       "      <td>Womens Canoe Double 500m</td>\n",
       "      <td>1897155</td>\n",
       "      <td>2.0</td>\n",
       "      <td>Silver Medal</td>\n",
       "    </tr>\n",
       "  </tbody>\n",
       "</table>\n",
       "</div>"
      ],
      "text/plain": [
       "             team_code  country    discipline                     event  \\\n",
       "270  CSPWC2-500M-UKR01  Ukraine  Canoe Sprint  Womens Canoe Double 500m   \n",
       "271  CSPWC2-500M-UKR01  Ukraine  Canoe Sprint  Womens Canoe Double 500m   \n",
       "\n",
       "        code  num_athletes    team_medal  \n",
       "270  1897153           2.0  Silver Medal  \n",
       "271  1897155           2.0  Silver Medal  "
      ]
     },
     "execution_count": 78,
     "metadata": {},
     "output_type": "execute_result"
    }
   ],
   "source": [
    "teams_medals[teams_medals['team_code']==\"CSPWC2-500M-UKR01\"]     #1897155"
   ]
  },
  {
   "cell_type": "code",
   "execution_count": 79,
   "id": "12c954b5",
   "metadata": {},
   "outputs": [
    {
     "data": {
      "text/html": [
       "<div>\n",
       "<style scoped>\n",
       "    .dataframe tbody tr th:only-of-type {\n",
       "        vertical-align: middle;\n",
       "    }\n",
       "\n",
       "    .dataframe tbody tr th {\n",
       "        vertical-align: top;\n",
       "    }\n",
       "\n",
       "    .dataframe thead th {\n",
       "        text-align: right;\n",
       "    }\n",
       "</style>\n",
       "<table border=\"1\" class=\"dataframe\">\n",
       "  <thead>\n",
       "    <tr style=\"text-align: right;\">\n",
       "      <th></th>\n",
       "      <th>code</th>\n",
       "      <th>name</th>\n",
       "      <th>gender</th>\n",
       "      <th>country</th>\n",
       "      <th>discipline</th>\n",
       "      <th>event</th>\n",
       "      <th>age</th>\n",
       "      <th>medal_type</th>\n",
       "    </tr>\n",
       "  </thead>\n",
       "  <tbody>\n",
       "    <tr>\n",
       "      <th>4812</th>\n",
       "      <td>1897155</td>\n",
       "      <td>RYBACHOK Anastasiia</td>\n",
       "      <td>Female</td>\n",
       "      <td>Ukraine</td>\n",
       "      <td>Canoe Sprint</td>\n",
       "      <td>Womens Canoe Single 200m</td>\n",
       "      <td>26</td>\n",
       "      <td>NaN</td>\n",
       "    </tr>\n",
       "    <tr>\n",
       "      <th>4813</th>\n",
       "      <td>1897155</td>\n",
       "      <td>RYBACHOK Anastasiia</td>\n",
       "      <td>Female</td>\n",
       "      <td>Ukraine</td>\n",
       "      <td>Canoe Sprint</td>\n",
       "      <td>Womens Canoe Double 500m</td>\n",
       "      <td>26</td>\n",
       "      <td>NaN</td>\n",
       "    </tr>\n",
       "  </tbody>\n",
       "</table>\n",
       "</div>"
      ],
      "text/plain": [
       "         code                 name  gender  country    discipline  \\\n",
       "4812  1897155  RYBACHOK Anastasiia  Female  Ukraine  Canoe Sprint   \n",
       "4813  1897155  RYBACHOK Anastasiia  Female  Ukraine  Canoe Sprint   \n",
       "\n",
       "                         event  age medal_type  \n",
       "4812  Womens Canoe Single 200m   26        NaN  \n",
       "4813  Womens Canoe Double 500m   26        NaN  "
      ]
     },
     "execution_count": 79,
     "metadata": {},
     "output_type": "execute_result"
    }
   ],
   "source": [
    "new_df[new_df['code']=='1897155']"
   ]
  },
  {
   "cell_type": "code",
   "execution_count": 233,
   "id": "990c5b39",
   "metadata": {},
   "outputs": [],
   "source": [
    "final_df=pd.merge(new_df,teams_medals, on=['code','event','discipline'],how=\"left\")"
   ]
  },
  {
   "cell_type": "code",
   "execution_count": 234,
   "id": "1f02d1be",
   "metadata": {},
   "outputs": [
    {
     "data": {
      "text/html": [
       "<div>\n",
       "<style scoped>\n",
       "    .dataframe tbody tr th:only-of-type {\n",
       "        vertical-align: middle;\n",
       "    }\n",
       "\n",
       "    .dataframe tbody tr th {\n",
       "        vertical-align: top;\n",
       "    }\n",
       "\n",
       "    .dataframe thead th {\n",
       "        text-align: right;\n",
       "    }\n",
       "</style>\n",
       "<table border=\"1\" class=\"dataframe\">\n",
       "  <thead>\n",
       "    <tr style=\"text-align: right;\">\n",
       "      <th></th>\n",
       "      <th>code</th>\n",
       "      <th>name</th>\n",
       "      <th>gender</th>\n",
       "      <th>country_x</th>\n",
       "      <th>discipline</th>\n",
       "      <th>event</th>\n",
       "      <th>age</th>\n",
       "      <th>medal_type</th>\n",
       "      <th>team_code</th>\n",
       "      <th>country_y</th>\n",
       "      <th>num_athletes</th>\n",
       "      <th>team_medal</th>\n",
       "    </tr>\n",
       "  </thead>\n",
       "  <tbody>\n",
       "    <tr>\n",
       "      <th>4812</th>\n",
       "      <td>1897155</td>\n",
       "      <td>RYBACHOK Anastasiia</td>\n",
       "      <td>Female</td>\n",
       "      <td>Ukraine</td>\n",
       "      <td>Canoe Sprint</td>\n",
       "      <td>Womens Canoe Single 200m</td>\n",
       "      <td>26</td>\n",
       "      <td>NaN</td>\n",
       "      <td>NaN</td>\n",
       "      <td>NaN</td>\n",
       "      <td>NaN</td>\n",
       "      <td>NaN</td>\n",
       "    </tr>\n",
       "    <tr>\n",
       "      <th>4813</th>\n",
       "      <td>1897155</td>\n",
       "      <td>RYBACHOK Anastasiia</td>\n",
       "      <td>Female</td>\n",
       "      <td>Ukraine</td>\n",
       "      <td>Canoe Sprint</td>\n",
       "      <td>Womens Canoe Double 500m</td>\n",
       "      <td>26</td>\n",
       "      <td>NaN</td>\n",
       "      <td>CSPWC2-500M-UKR01</td>\n",
       "      <td>Ukraine</td>\n",
       "      <td>2.0</td>\n",
       "      <td>Silver Medal</td>\n",
       "    </tr>\n",
       "  </tbody>\n",
       "</table>\n",
       "</div>"
      ],
      "text/plain": [
       "         code                 name  gender country_x    discipline  \\\n",
       "4812  1897155  RYBACHOK Anastasiia  Female   Ukraine  Canoe Sprint   \n",
       "4813  1897155  RYBACHOK Anastasiia  Female   Ukraine  Canoe Sprint   \n",
       "\n",
       "                         event  age medal_type          team_code country_y  \\\n",
       "4812  Womens Canoe Single 200m   26        NaN                NaN       NaN   \n",
       "4813  Womens Canoe Double 500m   26        NaN  CSPWC2-500M-UKR01   Ukraine   \n",
       "\n",
       "      num_athletes    team_medal  \n",
       "4812           NaN           NaN  \n",
       "4813           2.0  Silver Medal  "
      ]
     },
     "execution_count": 234,
     "metadata": {},
     "output_type": "execute_result"
    }
   ],
   "source": [
    "final_df[final_df['code']=='1897155']"
   ]
  },
  {
   "cell_type": "code",
   "execution_count": 235,
   "id": "dd4fca2a",
   "metadata": {},
   "outputs": [
    {
     "data": {
      "text/plain": [
       "(15033, 12)"
      ]
     },
     "execution_count": 235,
     "metadata": {},
     "output_type": "execute_result"
    }
   ],
   "source": [
    "final_df.shape"
   ]
  },
  {
   "cell_type": "code",
   "execution_count": 236,
   "id": "bc2c4f65",
   "metadata": {},
   "outputs": [
    {
     "data": {
      "text/html": [
       "<div>\n",
       "<style scoped>\n",
       "    .dataframe tbody tr th:only-of-type {\n",
       "        vertical-align: middle;\n",
       "    }\n",
       "\n",
       "    .dataframe tbody tr th {\n",
       "        vertical-align: top;\n",
       "    }\n",
       "\n",
       "    .dataframe thead th {\n",
       "        text-align: right;\n",
       "    }\n",
       "</style>\n",
       "<table border=\"1\" class=\"dataframe\">\n",
       "  <thead>\n",
       "    <tr style=\"text-align: right;\">\n",
       "      <th></th>\n",
       "      <th>code</th>\n",
       "      <th>name</th>\n",
       "      <th>gender</th>\n",
       "      <th>country_x</th>\n",
       "      <th>discipline</th>\n",
       "      <th>event</th>\n",
       "      <th>age</th>\n",
       "      <th>medal_type</th>\n",
       "      <th>team_code</th>\n",
       "      <th>country_y</th>\n",
       "      <th>num_athletes</th>\n",
       "      <th>team_medal</th>\n",
       "    </tr>\n",
       "  </thead>\n",
       "  <tbody>\n",
       "    <tr>\n",
       "      <th>281</th>\n",
       "      <td>1537349</td>\n",
       "      <td>ALSADEQ Julyana</td>\n",
       "      <td>Female</td>\n",
       "      <td>Jordan</td>\n",
       "      <td>Taekwondo</td>\n",
       "      <td>Women -67kg</td>\n",
       "      <td>30</td>\n",
       "      <td>NaN</td>\n",
       "      <td>NaN</td>\n",
       "      <td>NaN</td>\n",
       "      <td>NaN</td>\n",
       "      <td>NaN</td>\n",
       "    </tr>\n",
       "    <tr>\n",
       "      <th>11758</th>\n",
       "      <td>1954207</td>\n",
       "      <td>SCHNELL Delaney</td>\n",
       "      <td>Female</td>\n",
       "      <td>United States</td>\n",
       "      <td>Diving</td>\n",
       "      <td>Womens 10m Platform</td>\n",
       "      <td>26</td>\n",
       "      <td>NaN</td>\n",
       "      <td>NaN</td>\n",
       "      <td>NaN</td>\n",
       "      <td>NaN</td>\n",
       "      <td>NaN</td>\n",
       "    </tr>\n",
       "    <tr>\n",
       "      <th>2087</th>\n",
       "      <td>1563494</td>\n",
       "      <td>RUZIEV Doston</td>\n",
       "      <td>Male</td>\n",
       "      <td>Uzbekistan</td>\n",
       "      <td>Judo</td>\n",
       "      <td>Mixed Team</td>\n",
       "      <td>28</td>\n",
       "      <td>NaN</td>\n",
       "      <td>NaN</td>\n",
       "      <td>NaN</td>\n",
       "      <td>NaN</td>\n",
       "      <td>NaN</td>\n",
       "    </tr>\n",
       "    <tr>\n",
       "      <th>12067</th>\n",
       "      <td>1955461</td>\n",
       "      <td>PARRIS Mason Mark</td>\n",
       "      <td>Male</td>\n",
       "      <td>United States</td>\n",
       "      <td>Wrestling</td>\n",
       "      <td>Mens Freestyle 125kg</td>\n",
       "      <td>25</td>\n",
       "      <td>NaN</td>\n",
       "      <td>NaN</td>\n",
       "      <td>NaN</td>\n",
       "      <td>NaN</td>\n",
       "      <td>NaN</td>\n",
       "    </tr>\n",
       "  </tbody>\n",
       "</table>\n",
       "</div>"
      ],
      "text/plain": [
       "          code               name  gender      country_x discipline  \\\n",
       "281    1537349    ALSADEQ Julyana  Female         Jordan  Taekwondo   \n",
       "11758  1954207    SCHNELL Delaney  Female  United States     Diving   \n",
       "2087   1563494      RUZIEV Doston    Male     Uzbekistan       Judo   \n",
       "12067  1955461  PARRIS Mason Mark    Male  United States  Wrestling   \n",
       "\n",
       "                      event  age medal_type team_code country_y  num_athletes  \\\n",
       "281             Women -67kg   30        NaN       NaN       NaN           NaN   \n",
       "11758   Womens 10m Platform   26        NaN       NaN       NaN           NaN   \n",
       "2087             Mixed Team   28        NaN       NaN       NaN           NaN   \n",
       "12067  Mens Freestyle 125kg   25        NaN       NaN       NaN           NaN   \n",
       "\n",
       "      team_medal  \n",
       "281          NaN  \n",
       "11758        NaN  \n",
       "2087         NaN  \n",
       "12067        NaN  "
      ]
     },
     "execution_count": 236,
     "metadata": {},
     "output_type": "execute_result"
    }
   ],
   "source": [
    "final_df.sample(4)"
   ]
  },
  {
   "cell_type": "code",
   "execution_count": null,
   "id": "b5214197",
   "metadata": {},
   "outputs": [],
   "source": []
  },
  {
   "cell_type": "code",
   "execution_count": 237,
   "id": "38921b72",
   "metadata": {},
   "outputs": [],
   "source": [
    "final_df.drop(columns=['country_y'],inplace=True)"
   ]
  },
  {
   "cell_type": "code",
   "execution_count": 238,
   "id": "b5e07e56",
   "metadata": {},
   "outputs": [
    {
     "data": {
      "text/plain": [
       "code                0\n",
       "name                0\n",
       "gender              0\n",
       "country_x           0\n",
       "discipline          0\n",
       "event               0\n",
       "age                 0\n",
       "medal_type      14279\n",
       "team_code       13492\n",
       "num_athletes    13492\n",
       "team_medal      13492\n",
       "dtype: int64"
      ]
     },
     "execution_count": 238,
     "metadata": {},
     "output_type": "execute_result"
    }
   ],
   "source": [
    "final_df.isnull().sum()"
   ]
  },
  {
   "cell_type": "code",
   "execution_count": 239,
   "id": "bce2a458",
   "metadata": {},
   "outputs": [],
   "source": [
    "final_df['medal_type']=final_df['team_medal'].combine_first(final_df['medal_type'])"
   ]
  },
  {
   "cell_type": "code",
   "execution_count": 240,
   "id": "95ff90d0",
   "metadata": {},
   "outputs": [
    {
     "data": {
      "text/plain": [
       "code                0\n",
       "name                0\n",
       "gender              0\n",
       "country_x           0\n",
       "discipline          0\n",
       "event               0\n",
       "age                 0\n",
       "medal_type      12738\n",
       "team_code       13492\n",
       "num_athletes    13492\n",
       "team_medal      13492\n",
       "dtype: int64"
      ]
     },
     "execution_count": 240,
     "metadata": {},
     "output_type": "execute_result"
    }
   ],
   "source": [
    "final_df.isnull().sum()"
   ]
  },
  {
   "cell_type": "code",
   "execution_count": 241,
   "id": "79a358bc",
   "metadata": {},
   "outputs": [],
   "source": [
    "final_df.drop(columns=['team_medal'],inplace=True)"
   ]
  },
  {
   "cell_type": "code",
   "execution_count": 242,
   "id": "5dfbe90a",
   "metadata": {},
   "outputs": [
    {
     "data": {
      "text/plain": [
       "(15033, 10)"
      ]
     },
     "execution_count": 242,
     "metadata": {},
     "output_type": "execute_result"
    }
   ],
   "source": [
    "final_df.shape"
   ]
  },
  {
   "cell_type": "code",
   "execution_count": 243,
   "id": "4ee6f8e5",
   "metadata": {},
   "outputs": [],
   "source": [
    "final_df.dropna(subset=[\"medal_type\"],inplace=True)"
   ]
  },
  {
   "cell_type": "code",
   "execution_count": 244,
   "id": "26905763",
   "metadata": {},
   "outputs": [
    {
     "data": {
      "text/plain": [
       "(2295, 10)"
      ]
     },
     "execution_count": 244,
     "metadata": {},
     "output_type": "execute_result"
    }
   ],
   "source": [
    "final_df.shape"
   ]
  },
  {
   "cell_type": "code",
   "execution_count": 245,
   "id": "4243bed2",
   "metadata": {},
   "outputs": [
    {
     "data": {
      "text/html": [
       "<div>\n",
       "<style scoped>\n",
       "    .dataframe tbody tr th:only-of-type {\n",
       "        vertical-align: middle;\n",
       "    }\n",
       "\n",
       "    .dataframe tbody tr th {\n",
       "        vertical-align: top;\n",
       "    }\n",
       "\n",
       "    .dataframe thead th {\n",
       "        text-align: right;\n",
       "    }\n",
       "</style>\n",
       "<table border=\"1\" class=\"dataframe\">\n",
       "  <thead>\n",
       "    <tr style=\"text-align: right;\">\n",
       "      <th></th>\n",
       "      <th>code</th>\n",
       "      <th>name</th>\n",
       "      <th>gender</th>\n",
       "      <th>country_x</th>\n",
       "      <th>discipline</th>\n",
       "      <th>event</th>\n",
       "      <th>age</th>\n",
       "      <th>medal_type</th>\n",
       "      <th>team_code</th>\n",
       "      <th>num_athletes</th>\n",
       "    </tr>\n",
       "  </thead>\n",
       "  <tbody>\n",
       "    <tr>\n",
       "      <th>4811</th>\n",
       "      <td>1897153</td>\n",
       "      <td>LUZAN Liudmyla</td>\n",
       "      <td>Female</td>\n",
       "      <td>Ukraine</td>\n",
       "      <td>Canoe Sprint</td>\n",
       "      <td>Womens Canoe Double 500m</td>\n",
       "      <td>27</td>\n",
       "      <td>Silver Medal</td>\n",
       "      <td>CSPWC2-500M-UKR01</td>\n",
       "      <td>2.0</td>\n",
       "    </tr>\n",
       "    <tr>\n",
       "      <th>4813</th>\n",
       "      <td>1897155</td>\n",
       "      <td>RYBACHOK Anastasiia</td>\n",
       "      <td>Female</td>\n",
       "      <td>Ukraine</td>\n",
       "      <td>Canoe Sprint</td>\n",
       "      <td>Womens Canoe Double 500m</td>\n",
       "      <td>26</td>\n",
       "      <td>Silver Medal</td>\n",
       "      <td>CSPWC2-500M-UKR01</td>\n",
       "      <td>2.0</td>\n",
       "    </tr>\n",
       "  </tbody>\n",
       "</table>\n",
       "</div>"
      ],
      "text/plain": [
       "         code                 name  gender country_x    discipline  \\\n",
       "4811  1897153       LUZAN Liudmyla  Female   Ukraine  Canoe Sprint   \n",
       "4813  1897155  RYBACHOK Anastasiia  Female   Ukraine  Canoe Sprint   \n",
       "\n",
       "                         event  age    medal_type          team_code  \\\n",
       "4811  Womens Canoe Double 500m   27  Silver Medal  CSPWC2-500M-UKR01   \n",
       "4813  Womens Canoe Double 500m   26  Silver Medal  CSPWC2-500M-UKR01   \n",
       "\n",
       "      num_athletes  \n",
       "4811           2.0  \n",
       "4813           2.0  "
      ]
     },
     "execution_count": 245,
     "metadata": {},
     "output_type": "execute_result"
    }
   ],
   "source": [
    "final_df[final_df['team_code']==\"CSPWC2-500M-UKR01\"]"
   ]
  },
  {
   "cell_type": "code",
   "execution_count": 248,
   "id": "4910995c",
   "metadata": {},
   "outputs": [],
   "source": [
    "# import pickle\n",
    "# with open(\"final_df.csv\",\"wb\") as file:\n",
    "#     pickle.dump(final_df,file)"
   ]
  },
  {
   "cell_type": "code",
   "execution_count": 250,
   "id": "eea0e67c",
   "metadata": {},
   "outputs": [],
   "source": [
    "final_df.to_csv(\"final2_df.csv\")"
   ]
  },
  {
   "cell_type": "code",
   "execution_count": 228,
   "id": "ea1016f9",
   "metadata": {},
   "outputs": [
    {
     "data": {
      "text/plain": [
       "1260"
      ]
     },
     "execution_count": 228,
     "metadata": {},
     "output_type": "execute_result"
    }
   ],
   "source": [
    "final_df.duplicated(subset=[\"team_code\",\"discipline\",'event','medal_type','country_x']).sum()"
   ]
  },
  {
   "cell_type": "code",
   "execution_count": 229,
   "id": "5ba2f5ee",
   "metadata": {},
   "outputs": [
    {
     "data": {
      "text/plain": [
       "(2295, 10)"
      ]
     },
     "execution_count": 229,
     "metadata": {},
     "output_type": "execute_result"
    }
   ],
   "source": [
    "final_df.shape"
   ]
  },
  {
   "cell_type": "code",
   "execution_count": 230,
   "id": "1ff5e203",
   "metadata": {},
   "outputs": [],
   "source": [
    "final_df.drop_duplicates(subset=[\"team_code\",\"discipline\",'event','medal_type','country_x'],inplace=True)"
   ]
  },
  {
   "cell_type": "code",
   "execution_count": 231,
   "id": "be3ec9ed",
   "metadata": {},
   "outputs": [
    {
     "data": {
      "text/html": [
       "<div>\n",
       "<style scoped>\n",
       "    .dataframe tbody tr th:only-of-type {\n",
       "        vertical-align: middle;\n",
       "    }\n",
       "\n",
       "    .dataframe tbody tr th {\n",
       "        vertical-align: top;\n",
       "    }\n",
       "\n",
       "    .dataframe thead th {\n",
       "        text-align: right;\n",
       "    }\n",
       "</style>\n",
       "<table border=\"1\" class=\"dataframe\">\n",
       "  <thead>\n",
       "    <tr style=\"text-align: right;\">\n",
       "      <th></th>\n",
       "      <th>code</th>\n",
       "      <th>name</th>\n",
       "      <th>gender</th>\n",
       "      <th>country_x</th>\n",
       "      <th>discipline</th>\n",
       "      <th>event</th>\n",
       "      <th>age</th>\n",
       "      <th>medal_type</th>\n",
       "      <th>team_code</th>\n",
       "      <th>num_athletes</th>\n",
       "    </tr>\n",
       "  </thead>\n",
       "  <tbody>\n",
       "    <tr>\n",
       "      <th>316</th>\n",
       "      <td>1538084</td>\n",
       "      <td>KUSALE Swapnil</td>\n",
       "      <td>Male</td>\n",
       "      <td>India</td>\n",
       "      <td>Shooting</td>\n",
       "      <td>50m Rifle 3 Positions Men</td>\n",
       "      <td>29</td>\n",
       "      <td>Bronze Medal</td>\n",
       "      <td>NaN</td>\n",
       "      <td>NaN</td>\n",
       "    </tr>\n",
       "    <tr>\n",
       "      <th>333</th>\n",
       "      <td>1538159</td>\n",
       "      <td>BHAKER Manu</td>\n",
       "      <td>Female</td>\n",
       "      <td>India</td>\n",
       "      <td>Shooting</td>\n",
       "      <td>10m Air Pistol Women</td>\n",
       "      <td>22</td>\n",
       "      <td>Bronze Medal</td>\n",
       "      <td>NaN</td>\n",
       "      <td>NaN</td>\n",
       "    </tr>\n",
       "    <tr>\n",
       "      <th>335</th>\n",
       "      <td>1538159</td>\n",
       "      <td>BHAKER Manu</td>\n",
       "      <td>Female</td>\n",
       "      <td>India</td>\n",
       "      <td>Shooting</td>\n",
       "      <td>10m Air Pistol Mixed Team</td>\n",
       "      <td>22</td>\n",
       "      <td>Bronze Medal</td>\n",
       "      <td>SHOXAPMT----IND01</td>\n",
       "      <td>2.0</td>\n",
       "    </tr>\n",
       "    <tr>\n",
       "      <th>682</th>\n",
       "      <td>1543015</td>\n",
       "      <td>PARATTU RAVEENDRAN Sreejesh</td>\n",
       "      <td>Male</td>\n",
       "      <td>India</td>\n",
       "      <td>Hockey</td>\n",
       "      <td>Men</td>\n",
       "      <td>36</td>\n",
       "      <td>Bronze Medal</td>\n",
       "      <td>HOCMTEAM11--IND01</td>\n",
       "      <td>16.0</td>\n",
       "    </tr>\n",
       "    <tr>\n",
       "      <th>1141</th>\n",
       "      <td>1550250</td>\n",
       "      <td>CHOPRA Neeraj</td>\n",
       "      <td>Male</td>\n",
       "      <td>India</td>\n",
       "      <td>Athletics</td>\n",
       "      <td>Mens Javelin Throw</td>\n",
       "      <td>27</td>\n",
       "      <td>Silver Medal</td>\n",
       "      <td>NaN</td>\n",
       "      <td>NaN</td>\n",
       "    </tr>\n",
       "    <tr>\n",
       "      <th>8965</th>\n",
       "      <td>1931496</td>\n",
       "      <td>AMAN Aman</td>\n",
       "      <td>Male</td>\n",
       "      <td>India</td>\n",
       "      <td>Wrestling</td>\n",
       "      <td>Mens Freestyle 57kg</td>\n",
       "      <td>21</td>\n",
       "      <td>Bronze Medal</td>\n",
       "      <td>NaN</td>\n",
       "      <td>NaN</td>\n",
       "    </tr>\n",
       "  </tbody>\n",
       "</table>\n",
       "</div>"
      ],
      "text/plain": [
       "         code                         name  gender country_x discipline  \\\n",
       "316   1538084               KUSALE Swapnil    Male     India   Shooting   \n",
       "333   1538159                  BHAKER Manu  Female     India   Shooting   \n",
       "335   1538159                  BHAKER Manu  Female     India   Shooting   \n",
       "682   1543015  PARATTU RAVEENDRAN Sreejesh    Male     India     Hockey   \n",
       "1141  1550250                CHOPRA Neeraj    Male     India  Athletics   \n",
       "8965  1931496                    AMAN Aman    Male     India  Wrestling   \n",
       "\n",
       "                          event  age    medal_type          team_code  \\\n",
       "316   50m Rifle 3 Positions Men   29  Bronze Medal                NaN   \n",
       "333        10m Air Pistol Women   22  Bronze Medal                NaN   \n",
       "335   10m Air Pistol Mixed Team   22  Bronze Medal  SHOXAPMT----IND01   \n",
       "682                         Men   36  Bronze Medal  HOCMTEAM11--IND01   \n",
       "1141         Mens Javelin Throw   27  Silver Medal                NaN   \n",
       "8965        Mens Freestyle 57kg   21  Bronze Medal                NaN   \n",
       "\n",
       "      num_athletes  \n",
       "316            NaN  \n",
       "333            NaN  \n",
       "335            2.0  \n",
       "682           16.0  \n",
       "1141           NaN  \n",
       "8965           NaN  "
      ]
     },
     "execution_count": 231,
     "metadata": {},
     "output_type": "execute_result"
    }
   ],
   "source": [
    "final_df[final_df['country_x']==\"India\"]"
   ]
  },
  {
   "cell_type": "code",
   "execution_count": 312,
   "id": "d0379421",
   "metadata": {},
   "outputs": [
    {
     "data": {
      "text/html": [
       "<div>\n",
       "<style scoped>\n",
       "    .dataframe tbody tr th:only-of-type {\n",
       "        vertical-align: middle;\n",
       "    }\n",
       "\n",
       "    .dataframe tbody tr th {\n",
       "        vertical-align: top;\n",
       "    }\n",
       "\n",
       "    .dataframe thead th {\n",
       "        text-align: right;\n",
       "    }\n",
       "</style>\n",
       "<table border=\"1\" class=\"dataframe\">\n",
       "  <thead>\n",
       "    <tr style=\"text-align: right;\">\n",
       "      <th></th>\n",
       "      <th>code</th>\n",
       "      <th>name</th>\n",
       "      <th>gender</th>\n",
       "      <th>country_x</th>\n",
       "      <th>discipline</th>\n",
       "      <th>event</th>\n",
       "      <th>age</th>\n",
       "      <th>medal_type</th>\n",
       "      <th>team_code</th>\n",
       "      <th>num_athletes</th>\n",
       "    </tr>\n",
       "  </thead>\n",
       "  <tbody>\n",
       "    <tr>\n",
       "      <th>3224</th>\n",
       "      <td>1878563</td>\n",
       "      <td>NADEEM Arshad</td>\n",
       "      <td>Male</td>\n",
       "      <td>Pakistan</td>\n",
       "      <td>Athletics</td>\n",
       "      <td>Mens Javelin Throw</td>\n",
       "      <td>27</td>\n",
       "      <td>Gold Medal</td>\n",
       "      <td>NaN</td>\n",
       "      <td>NaN</td>\n",
       "    </tr>\n",
       "  </tbody>\n",
       "</table>\n",
       "</div>"
      ],
      "text/plain": [
       "         code           name gender country_x discipline               event  \\\n",
       "3224  1878563  NADEEM Arshad   Male  Pakistan  Athletics  Mens Javelin Throw   \n",
       "\n",
       "      age  medal_type team_code  num_athletes  \n",
       "3224   27  Gold Medal       NaN           NaN  "
      ]
     },
     "execution_count": 312,
     "metadata": {},
     "output_type": "execute_result"
    }
   ],
   "source": [
    "final_df[final_df['country_x']==\"Pakistan\"]"
   ]
  },
  {
   "cell_type": "code",
   "execution_count": 207,
   "id": "dff54f87",
   "metadata": {},
   "outputs": [
    {
     "data": {
      "text/plain": [
       "{'United States': 124,\n",
       " 'China': 91,\n",
       " 'France': 64,\n",
       " 'Great Britain': 64,\n",
       " 'Australia': 53,\n",
       " 'Japan': 45,\n",
       " 'Italy': 39,\n",
       " 'Netherlands': 33,\n",
       " 'Korea': 32,\n",
       " 'Germany': 32,\n",
       " 'Canada': 27,\n",
       " 'New Zealand': 20,\n",
       " 'Brazil': 20,\n",
       " 'Hungary': 19,\n",
       " 'Spain': 18,\n",
       " 'Uzbekistan': 13,\n",
       " 'IR Iran': 12,\n",
       " 'Ukraine': 12,\n",
       " 'Sweden': 11,\n",
       " 'Kenya': 10,\n",
       " 'Belgium': 10,\n",
       " 'Poland': 10,\n",
       " 'Romania': 9,\n",
       " 'Cuba': 9,\n",
       " 'Denmark': 9,\n",
       " 'Türkiye': 8,\n",
       " 'Greece': 8,\n",
       " 'Norway': 8,\n",
       " 'Switzerland': 8,\n",
       " 'Chinese Taipei': 7,\n",
       " 'Kazakhstan': 7,\n",
       " 'Croatia': 7,\n",
       " 'Israel': 7,\n",
       " 'Bulgaria': 7,\n",
       " 'Georgia': 7,\n",
       " 'Azerbaijan': 7,\n",
       " 'Ireland': 7,\n",
       " 'South Africa': 6,\n",
       " 'Thailand': 6,\n",
       " 'DPR Korea': 6,\n",
       " 'Jamaica': 6,\n",
       " 'Kyrgyzstan': 6,\n",
       " 'India': 6,\n",
       " 'Czechia': 5,\n",
       " 'Mexico': 5,\n",
       " 'Ecuador': 5,\n",
       " 'AIN': 5,\n",
       " 'Austria': 5,\n",
       " 'Serbia': 5,\n",
       " 'Hong Kong, China': 4,\n",
       " 'Portugal': 4,\n",
       " 'Philippines': 4,\n",
       " 'Lithuania': 4,\n",
       " 'Armenia': 4,\n",
       " 'Republic of Moldova': 4,\n",
       " 'Colombia': 4,\n",
       " 'Bahrain': 4,\n",
       " 'Argentina': 3,\n",
       " 'Indonesia': 3,\n",
       " 'Tunisia': 3,\n",
       " 'Egypt': 3,\n",
       " 'Algeria': 3,\n",
       " 'Slovenia': 3,\n",
       " 'Tajikistan': 3,\n",
       " 'Dominican Republic': 3,\n",
       " 'Ethiopia': 3,\n",
       " 'Kosovo': 2,\n",
       " 'Guatemala': 2,\n",
       " 'Puerto Rico': 2,\n",
       " 'Chile': 2,\n",
       " 'Saint Lucia': 2,\n",
       " 'Botswana': 2,\n",
       " 'Morocco': 2,\n",
       " 'Albania': 2,\n",
       " 'Grenada': 2,\n",
       " 'Malaysia': 2,\n",
       " 'Dominica': 1,\n",
       " 'Pakistan': 1,\n",
       " 'Singapore': 1,\n",
       " 'Uganda': 1,\n",
       " 'Panama': 1,\n",
       " 'Cyprus': 1,\n",
       " 'Slovakia': 1,\n",
       " 'Fiji': 1,\n",
       " 'EOR': 1,\n",
       " 'Jordan': 1,\n",
       " 'Qatar': 1,\n",
       " 'Mongolia': 1,\n",
       " 'Peru': 1,\n",
       " \"Côte d'Ivoire\": 1,\n",
       " 'Zambia': 1,\n",
       " 'Cabo Verde': 1}"
      ]
     },
     "execution_count": 207,
     "metadata": {},
     "output_type": "execute_result"
    }
   ],
   "source": [
    "final_df['country_x'].value_counts().to_dict()"
   ]
  },
  {
   "cell_type": "code",
   "execution_count": 209,
   "id": "7fdd805c",
   "metadata": {},
   "outputs": [],
   "source": [
    "final_df_copy = final_df.copy()"
   ]
  },
  {
   "cell_type": "code",
   "execution_count": 211,
   "id": "27868d04",
   "metadata": {},
   "outputs": [
    {
     "data": {
      "text/html": [
       "<div>\n",
       "<style scoped>\n",
       "    .dataframe tbody tr th:only-of-type {\n",
       "        vertical-align: middle;\n",
       "    }\n",
       "\n",
       "    .dataframe tbody tr th {\n",
       "        vertical-align: top;\n",
       "    }\n",
       "\n",
       "    .dataframe thead th {\n",
       "        text-align: right;\n",
       "    }\n",
       "</style>\n",
       "<table border=\"1\" class=\"dataframe\">\n",
       "  <thead>\n",
       "    <tr style=\"text-align: right;\">\n",
       "      <th></th>\n",
       "      <th>code</th>\n",
       "      <th>name</th>\n",
       "      <th>gender</th>\n",
       "      <th>country_x</th>\n",
       "      <th>discipline</th>\n",
       "      <th>event</th>\n",
       "      <th>age</th>\n",
       "      <th>medal_type</th>\n",
       "      <th>team_code</th>\n",
       "      <th>num_athletes</th>\n",
       "    </tr>\n",
       "  </thead>\n",
       "  <tbody>\n",
       "    <tr>\n",
       "      <th>738</th>\n",
       "      <td>1543317</td>\n",
       "      <td>DOYLE Phili</td>\n",
       "      <td>Male</td>\n",
       "      <td>Ireland</td>\n",
       "      <td>Rowing</td>\n",
       "      <td>Mens Double Sculls</td>\n",
       "      <td>32</td>\n",
       "      <td>Bronze Medal</td>\n",
       "      <td>ROWMSCULL2--IRL01</td>\n",
       "      <td>2.0</td>\n",
       "    </tr>\n",
       "    <tr>\n",
       "      <th>5942</th>\n",
       "      <td>1904430</td>\n",
       "      <td>HALES Nathan</td>\n",
       "      <td>Male</td>\n",
       "      <td>Great Britain</td>\n",
       "      <td>Shooting</td>\n",
       "      <td>Trap Men</td>\n",
       "      <td>28</td>\n",
       "      <td>Gold Medal</td>\n",
       "      <td>NaN</td>\n",
       "      <td>NaN</td>\n",
       "    </tr>\n",
       "    <tr>\n",
       "      <th>5026</th>\n",
       "      <td>1898250</td>\n",
       "      <td>INGEBRIGTSEN Jakob</td>\n",
       "      <td>Male</td>\n",
       "      <td>Norway</td>\n",
       "      <td>Athletics</td>\n",
       "      <td>Mens 5000m</td>\n",
       "      <td>24</td>\n",
       "      <td>Gold Medal</td>\n",
       "      <td>NaN</td>\n",
       "      <td>NaN</td>\n",
       "    </tr>\n",
       "  </tbody>\n",
       "</table>\n",
       "</div>"
      ],
      "text/plain": [
       "         code                name gender      country_x discipline  \\\n",
       "738   1543317         DOYLE Phili   Male        Ireland     Rowing   \n",
       "5942  1904430        HALES Nathan   Male  Great Britain   Shooting   \n",
       "5026  1898250  INGEBRIGTSEN Jakob   Male         Norway  Athletics   \n",
       "\n",
       "                   event  age    medal_type          team_code  num_athletes  \n",
       "738   Mens Double Sculls   32  Bronze Medal  ROWMSCULL2--IRL01           2.0  \n",
       "5942            Trap Men   28    Gold Medal                NaN           NaN  \n",
       "5026          Mens 5000m   24    Gold Medal                NaN           NaN  "
      ]
     },
     "execution_count": 211,
     "metadata": {},
     "output_type": "execute_result"
    }
   ],
   "source": [
    "final_df.sample(3)"
   ]
  },
  {
   "cell_type": "markdown",
   "id": "a8aea409",
   "metadata": {},
   "source": [
    "## Sport wise analysis"
   ]
  },
  {
   "cell_type": "code",
   "execution_count": 212,
   "id": "b9c77239",
   "metadata": {},
   "outputs": [],
   "source": [
    "swimming=pd.read_csv(\"results\\Swimming.csv\")"
   ]
  },
  {
   "cell_type": "code",
   "execution_count": 214,
   "id": "d9d31791",
   "metadata": {},
   "outputs": [
    {
     "data": {
      "text/plain": [
       "event_name\n",
       "Women's 50m Freestyle               103\n",
       "Men's 100m Freestyle                103\n",
       "Men's 50m Freestyle                  98\n",
       "Men's 100m Backstroke                70\n",
       "Men's 100m Butterfly                 64\n",
       "Men's 100m Breaststroke              62\n",
       "Women's 100m Breaststroke            61\n",
       "Women's 100m Backstroke              60\n",
       "Women's 200m Individual Medley       58\n",
       "Women's 100m Butterfly               56\n",
       "Women's 200m Freestyle               55\n",
       "Men's 200m Backstroke                54\n",
       "Women's 100m Freestyle               53\n",
       "Men's 200m Freestyle                 52\n",
       "Men's 200m Butterfly                 52\n",
       "Women's 200m Backstroke              51\n",
       "Men's 200m Individual Medley         49\n",
       "Men's 200m Breaststroke              49\n",
       "Women's 200m Breaststroke            47\n",
       "Men's 400m Freestyle                 45\n",
       "Women's 200m Butterfly               43\n",
       "Men's 800m Freestyle                 39\n",
       "Men's 1500m Freestyle                35\n",
       "Women's 400m Freestyle               29\n",
       "Women's 1500m Freestyle              25\n",
       "Men's 4 x 200m Freestyle Relay       25\n",
       "Women's 4 x 100m Medley Relay        24\n",
       "Women's 400m Individual Medley       24\n",
       "Women's 4 x 200m Freestyle Relay     24\n",
       "Mixed 4 x 100m Medley Relay          24\n",
       "Women's 4 x 100m Freestyle Relay     24\n",
       "Men's 400m Individual Medley         24\n",
       "Men's 4 x 100m Medley Relay          24\n",
       "Men's 4 x 100m Freestyle Relay       24\n",
       "Women's 800m Freestyle               24\n",
       "Name: count, dtype: int64"
      ]
     },
     "execution_count": 214,
     "metadata": {},
     "output_type": "execute_result"
    }
   ],
   "source": [
    "swimming['event_name'].value_counts()"
   ]
  }
 ],
 "metadata": {
  "kernelspec": {
   "display_name": "Python 3 (ipykernel)",
   "language": "python",
   "name": "python3"
  },
  "language_info": {
   "codemirror_mode": {
    "name": "ipython",
    "version": 3
   },
   "file_extension": ".py",
   "mimetype": "text/x-python",
   "name": "python",
   "nbconvert_exporter": "python",
   "pygments_lexer": "ipython3",
   "version": "3.11.5"
  }
 },
 "nbformat": 4,
 "nbformat_minor": 5
}
